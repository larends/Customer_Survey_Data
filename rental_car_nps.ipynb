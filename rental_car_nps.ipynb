{
 "cells": [
  {
   "cell_type": "markdown",
   "metadata": {},
   "source": [
    "# Obtain and Inspect the Data"
   ]
  },
  {
   "cell_type": "code",
   "execution_count": 1,
   "metadata": {
    "ExecuteTime": {
     "end_time": "2022-01-11T17:52:42.772416Z",
     "start_time": "2022-01-11T17:52:41.700588Z"
    }
   },
   "outputs": [],
   "source": [
    "import numpy as np\n",
    "import pandas as pd\n",
    "\n",
    "import matplotlib.pyplot as plt\n",
    "import seaborn as sns\n",
    "\n",
    "from datetime import datetime\n",
    "\n",
    "from scipy import stats\n",
    "\n",
    "import nltk\n",
    "from nltk.tokenize import word_tokenize\n",
    "from nltk.corpus import stopwords\n",
    "from nltk.tokenize import RegexpTokenizer\n",
    "\n",
    "\n",
    "%matplotlib inline\n",
    "\n",
    "SEED = 54\n",
    "\n",
    "sns.set_style('darkgrid')\n",
    "sns.set_palette('deep')\n"
   ]
  },
  {
   "cell_type": "code",
   "execution_count": 2,
   "metadata": {
    "ExecuteTime": {
     "end_time": "2022-01-11T17:52:42.862851Z",
     "start_time": "2022-01-11T17:52:42.774367Z"
    },
    "scrolled": true
   },
   "outputs": [
    {
     "name": "stdout",
     "output_type": "stream",
     "text": [
      "<class 'pandas.core.frame.DataFrame'>\n",
      "RangeIndex: 1495 entries, 0 to 1494\n",
      "Data columns (total 72 columns):\n",
      " #   Column                               Non-Null Count  Dtype         \n",
      "---  ------                               --------------  -----         \n",
      " 0   Main Hierarchy                       1494 non-null   object        \n",
      " 1   Main Hierarchy.1                     1493 non-null   object        \n",
      " 2   Location                             1489 non-null   object        \n",
      " 3   RA Number                            1489 non-null   object        \n",
      " 4   Brand                                1489 non-null   object        \n",
      " 5   Date of Survey                       1489 non-null   datetime64[ns]\n",
      " 6   Check-Out Day                        1489 non-null   datetime64[ns]\n",
      " 7   Check-Out Time                       1343 non-null   object        \n",
      " 8   Original Customer Tier Code          1489 non-null   object        \n",
      " 9   #1 Club Number                       1489 non-null   float64       \n",
      " 10  AAA Account                          255 non-null    object        \n",
      " 11  Key Account                          15 non-null     object        \n",
      " 12  Contract                             1479 non-null   float64       \n",
      " 13  NPS Score                            1489 non-null   float64       \n",
      " 14  Recommend                            1489 non-null   float64       \n",
      " 15  Recommend Comment                    1076 non-null   object        \n",
      " 16  Overall Satisfaction with Vehicle    1455 non-null   float64       \n",
      " 17  Mechanical condition of Vehicle      1446 non-null   float64       \n",
      " 18  Cleanliness of the Vehicle           1444 non-null   float64       \n",
      " 19  Make & Model                         1442 non-null   float64       \n",
      " 20  Vehicle Selection (Choice)           1394 non-null   float64       \n",
      " 21  Vehicle Features                     1443 non-null   float64       \n",
      " 22  RAC-B-Features Not Available         109 non-null    object        \n",
      " 23  Features Didn't Work                 26 non-null     object        \n",
      " 24  Features Difficult to Use            34 non-null     object        \n",
      " 25  Features Difficult to Locate         29 non-null     object        \n",
      " 26  Features Not Explained               33 non-null     object        \n",
      " 27  Feature Other                        55 non-null     object        \n",
      " 28  Feature Other Text                   51 non-null     object        \n",
      " 29  Value for the Money                  1425 non-null   float64       \n",
      " 30  Ease of Pick Up                      1425 non-null   float64       \n",
      " 31  Ease of Returning Your Vehicle       1424 non-null   float64       \n",
      " 32  Helpfulness of the Staff             1421 non-null   float64       \n",
      " 33  Felt like a Valued Customer          1423 non-null   float64       \n",
      " 34  Speed of Service                     1422 non-null   float64       \n",
      " 35  Wait for Shuttle to Rental Facility  30 non-null     object        \n",
      " 36  Wait for Vehicle                     93 non-null     object        \n",
      " 37  Wait at Counter                      73 non-null     object        \n",
      " 38  Wait at Exit Gate                    55 non-null     object        \n",
      " 39  Wait Upon Return                     29 non-null     object        \n",
      " 40  Wait for Shuttle to Airport          26 non-null     object        \n",
      " 41  Wait Other                           52 non-null     object        \n",
      " 42  Wait Other Text                      48 non-null     object        \n",
      " 43  Vehicle Ready Upon Arrival           1413 non-null   object        \n",
      " 44  Greeted with Smile                   1399 non-null   object        \n",
      " 45  Bill Correct                         1407 non-null   object        \n",
      " 46  Bill Correct Comment                 159 non-null    object        \n",
      " 47  Primary Rental Purpose               1411 non-null   object        \n",
      " 48  Primary Purpose Other                14 non-null     object        \n",
      " 49  Additional Comments                  217 non-null    object        \n",
      " 50  Recognize Staff Comment              265 non-null    object        \n",
      " 51  Invite Date                          1441 non-null   object        \n",
      " 52  First Name                           0 non-null      float64       \n",
      " 53  Last Name                            0 non-null      float64       \n",
      " 54  Email Address                        0 non-null      float64       \n",
      " 55  Minutes                              1489 non-null   float64       \n",
      " 56  IP Address                           1489 non-null   object        \n",
      " 57  Survey ID                            1489 non-null   float64       \n",
      " 58  SA Agent                             819 non-null    float64       \n",
      " 59  VSA Agent First Name                 814 non-null    object        \n",
      " 60  VSA Agent Last Name                  814 non-null    object        \n",
      " 61  Dropoff CSR Number                   1343 non-null   object        \n",
      " 62  Pickup CSR Number                    1343 non-null   float64       \n",
      " 63  Vehicle Model Code                   1343 non-null   object        \n",
      " 64  Vehicle Make and Model               0 non-null      float64       \n",
      " 65  Vehicle Model                        0 non-null      float64       \n",
      " 66  Vehicle Model Description            1343 non-null   object        \n",
      " 67  Check-In Date                        1349 non-null   datetime64[ns]\n",
      " 68  Check-In Time                        1343 non-null   object        \n",
      " 69  Member?                              1489 non-null   object        \n",
      " 70  Checkout Mileage                     1343 non-null   object        \n",
      " 71  Receipt Survey Type                  1489 non-null   object        \n",
      "dtypes: datetime64[ns](3), float64(25), object(44)\n",
      "memory usage: 841.1+ KB\n"
     ]
    }
   ],
   "source": [
    "date_cols = ['Date of Survey', 'Check-Out Day','Check-In Date']\n",
    "rental = pd.read_csv(\n",
    "    '02. Responses (Atlantic) (1).csv', \n",
    "    parse_dates = date_cols\n",
    ")\n",
    "rental.info()"
   ]
  },
  {
   "cell_type": "code",
   "execution_count": 3,
   "metadata": {
    "ExecuteTime": {
     "end_time": "2022-01-11T17:52:42.875937Z",
     "start_time": "2022-01-11T17:52:42.865176Z"
    },
    "scrolled": false
   },
   "outputs": [
    {
     "name": "stdout",
     "output_type": "stream",
     "text": [
      "<class 'pandas.core.frame.DataFrame'>\n",
      "RangeIndex: 1495 entries, 0 to 1494\n",
      "Data columns (total 72 columns):\n",
      " #   Column                               Non-Null Count  Dtype         \n",
      "---  ------                               --------------  -----         \n",
      " 0   Main Hierarchy                       1494 non-null   object        \n",
      " 1   Main Hierarchy.1                     1493 non-null   object        \n",
      " 2   Location                             1489 non-null   object        \n",
      " 3   RA Number                            1489 non-null   object        \n",
      " 4   Brand                                1489 non-null   object        \n",
      " 5   Date of Survey                       1489 non-null   datetime64[ns]\n",
      " 6   Check-Out Day                        1489 non-null   datetime64[ns]\n",
      " 7   Check-Out Time                       1343 non-null   object        \n",
      " 8   Original Customer Tier Code          1489 non-null   object        \n",
      " 9   #1 Club Number                       1489 non-null   float64       \n",
      " 10  AAA Account                          255 non-null    object        \n",
      " 11  Key Account                          15 non-null     object        \n",
      " 12  Contract                             1479 non-null   float64       \n",
      " 13  NPS Score                            1489 non-null   float64       \n",
      " 14  Recommend                            1489 non-null   float64       \n",
      " 15  Recommend Comment                    1076 non-null   object        \n",
      " 16  Overall Satisfaction with Vehicle    1455 non-null   float64       \n",
      " 17  Mechanical condition of Vehicle      1446 non-null   float64       \n",
      " 18  Cleanliness of the Vehicle           1444 non-null   float64       \n",
      " 19  Make & Model                         1442 non-null   float64       \n",
      " 20  Vehicle Selection (Choice)           1394 non-null   float64       \n",
      " 21  Vehicle Features                     1443 non-null   float64       \n",
      " 22  RAC-B-Features Not Available         109 non-null    object        \n",
      " 23  Features Didn't Work                 26 non-null     object        \n",
      " 24  Features Difficult to Use            34 non-null     object        \n",
      " 25  Features Difficult to Locate         29 non-null     object        \n",
      " 26  Features Not Explained               33 non-null     object        \n",
      " 27  Feature Other                        55 non-null     object        \n",
      " 28  Feature Other Text                   51 non-null     object        \n",
      " 29  Value for the Money                  1425 non-null   float64       \n",
      " 30  Ease of Pick Up                      1425 non-null   float64       \n",
      " 31  Ease of Returning Your Vehicle       1424 non-null   float64       \n",
      " 32  Helpfulness of the Staff             1421 non-null   float64       \n",
      " 33  Felt like a Valued Customer          1423 non-null   float64       \n",
      " 34  Speed of Service                     1422 non-null   float64       \n",
      " 35  Wait for Shuttle to Rental Facility  30 non-null     object        \n",
      " 36  Wait for Vehicle                     93 non-null     object        \n",
      " 37  Wait at Counter                      73 non-null     object        \n",
      " 38  Wait at Exit Gate                    55 non-null     object        \n",
      " 39  Wait Upon Return                     29 non-null     object        \n",
      " 40  Wait for Shuttle to Airport          26 non-null     object        \n",
      " 41  Wait Other                           52 non-null     object        \n",
      " 42  Wait Other Text                      48 non-null     object        \n",
      " 43  Vehicle Ready Upon Arrival           1413 non-null   object        \n",
      " 44  Greeted with Smile                   1399 non-null   object        \n",
      " 45  Bill Correct                         1407 non-null   object        \n",
      " 46  Bill Correct Comment                 159 non-null    object        \n",
      " 47  Primary Rental Purpose               1411 non-null   object        \n",
      " 48  Primary Purpose Other                14 non-null     object        \n",
      " 49  Additional Comments                  217 non-null    object        \n",
      " 50  Recognize Staff Comment              265 non-null    object        \n",
      " 51  Invite Date                          1441 non-null   object        \n",
      " 52  First Name                           0 non-null      float64       \n",
      " 53  Last Name                            0 non-null      float64       \n",
      " 54  Email Address                        0 non-null      float64       \n",
      " 55  Minutes                              1489 non-null   float64       \n",
      " 56  IP Address                           1489 non-null   object        \n",
      " 57  Survey ID                            1489 non-null   float64       \n",
      " 58  SA Agent                             819 non-null    float64       \n",
      " 59  VSA Agent First Name                 814 non-null    object        \n",
      " 60  VSA Agent Last Name                  814 non-null    object        \n",
      " 61  Dropoff CSR Number                   1343 non-null   object        \n",
      " 62  Pickup CSR Number                    1343 non-null   float64       \n",
      " 63  Vehicle Model Code                   1343 non-null   object        \n",
      " 64  Vehicle Make and Model               0 non-null      float64       \n",
      " 65  Vehicle Model                        0 non-null      float64       \n",
      " 66  Vehicle Model Description            1343 non-null   object        \n",
      " 67  Check-In Date                        1349 non-null   datetime64[ns]\n",
      " 68  Check-In Time                        1343 non-null   object        \n",
      " 69  Member?                              1489 non-null   object        \n",
      " 70  Checkout Mileage                     1343 non-null   object        \n",
      " 71  Receipt Survey Type                  1489 non-null   object        \n",
      "dtypes: datetime64[ns](3), float64(25), object(44)\n",
      "memory usage: 841.1+ KB\n"
     ]
    }
   ],
   "source": [
    "rental.info()"
   ]
  },
  {
   "cell_type": "markdown",
   "metadata": {},
   "source": [
    "# Data Exploration and Cleaning"
   ]
  },
  {
   "cell_type": "markdown",
   "metadata": {},
   "source": [
    "There are a significant number of columns that have significant - or even all - null values. I will create a new dataframe with only the columns that have 50% or higher non-null values and any column that contains textual comment data."
   ]
  },
  {
   "cell_type": "code",
   "execution_count": 4,
   "metadata": {
    "ExecuteTime": {
     "end_time": "2022-01-11T17:52:42.896871Z",
     "start_time": "2022-01-11T17:52:42.877849Z"
    },
    "scrolled": false
   },
   "outputs": [],
   "source": [
    "cols_to_keep = []\n",
    "\n",
    "for col in rental.columns:\n",
    "    if (\n",
    "        rental[col].notna().sum() >= (rental.shape[0] * .5) \n",
    "        or 'comment' in col.lower()\n",
    "    ):\n",
    "        cols_to_keep.append(col)\n",
    "   \n",
    "clean_rental = rental[cols_to_keep]"
   ]
  },
  {
   "cell_type": "markdown",
   "metadata": {},
   "source": [
    "It is common for the columns to have 6 null values. Upon investigation, there are 6 rows that are missing the majority of the data. I will remove these rows."
   ]
  },
  {
   "cell_type": "code",
   "execution_count": 5,
   "metadata": {
    "ExecuteTime": {
     "end_time": "2022-01-11T17:52:42.902491Z",
     "start_time": "2022-01-11T17:52:42.898691Z"
    }
   },
   "outputs": [],
   "source": [
    "clean_rental = clean_rental[clean_rental['Brand'].notna()]"
   ]
  },
  {
   "cell_type": "code",
   "execution_count": 6,
   "metadata": {
    "ExecuteTime": {
     "end_time": "2022-01-11T17:52:42.914685Z",
     "start_time": "2022-01-11T17:52:42.904089Z"
    }
   },
   "outputs": [
    {
     "name": "stdout",
     "output_type": "stream",
     "text": [
      "<class 'pandas.core.frame.DataFrame'>\n",
      "Int64Index: 1489 entries, 3 to 1494\n",
      "Data columns (total 49 columns):\n",
      " #   Column                             Non-Null Count  Dtype         \n",
      "---  ------                             --------------  -----         \n",
      " 0   Main Hierarchy                     1489 non-null   object        \n",
      " 1   Main Hierarchy.1                   1489 non-null   object        \n",
      " 2   Location                           1489 non-null   object        \n",
      " 3   RA Number                          1489 non-null   object        \n",
      " 4   Brand                              1489 non-null   object        \n",
      " 5   Date of Survey                     1489 non-null   datetime64[ns]\n",
      " 6   Check-Out Day                      1489 non-null   datetime64[ns]\n",
      " 7   Check-Out Time                     1343 non-null   object        \n",
      " 8   Original Customer Tier Code        1489 non-null   object        \n",
      " 9   #1 Club Number                     1489 non-null   float64       \n",
      " 10  Contract                           1479 non-null   float64       \n",
      " 11  NPS Score                          1489 non-null   float64       \n",
      " 12  Recommend                          1489 non-null   float64       \n",
      " 13  Recommend Comment                  1076 non-null   object        \n",
      " 14  Overall Satisfaction with Vehicle  1455 non-null   float64       \n",
      " 15  Mechanical condition of Vehicle    1446 non-null   float64       \n",
      " 16  Cleanliness of the Vehicle         1444 non-null   float64       \n",
      " 17  Make & Model                       1442 non-null   float64       \n",
      " 18  Vehicle Selection (Choice)         1394 non-null   float64       \n",
      " 19  Vehicle Features                   1443 non-null   float64       \n",
      " 20  Value for the Money                1425 non-null   float64       \n",
      " 21  Ease of Pick Up                    1425 non-null   float64       \n",
      " 22  Ease of Returning Your Vehicle     1424 non-null   float64       \n",
      " 23  Helpfulness of the Staff           1421 non-null   float64       \n",
      " 24  Felt like a Valued Customer        1423 non-null   float64       \n",
      " 25  Speed of Service                   1422 non-null   float64       \n",
      " 26  Vehicle Ready Upon Arrival         1413 non-null   object        \n",
      " 27  Greeted with Smile                 1399 non-null   object        \n",
      " 28  Bill Correct                       1407 non-null   object        \n",
      " 29  Bill Correct Comment               159 non-null    object        \n",
      " 30  Primary Rental Purpose             1411 non-null   object        \n",
      " 31  Additional Comments                217 non-null    object        \n",
      " 32  Recognize Staff Comment            265 non-null    object        \n",
      " 33  Invite Date                        1441 non-null   object        \n",
      " 34  Minutes                            1489 non-null   float64       \n",
      " 35  IP Address                         1489 non-null   object        \n",
      " 36  Survey ID                          1489 non-null   float64       \n",
      " 37  SA Agent                           819 non-null    float64       \n",
      " 38  VSA Agent First Name               814 non-null    object        \n",
      " 39  VSA Agent Last Name                814 non-null    object        \n",
      " 40  Dropoff CSR Number                 1343 non-null   object        \n",
      " 41  Pickup CSR Number                  1343 non-null   float64       \n",
      " 42  Vehicle Model Code                 1343 non-null   object        \n",
      " 43  Vehicle Model Description          1343 non-null   object        \n",
      " 44  Check-In Date                      1349 non-null   datetime64[ns]\n",
      " 45  Check-In Time                      1343 non-null   object        \n",
      " 46  Member?                            1489 non-null   object        \n",
      " 47  Checkout Mileage                   1343 non-null   object        \n",
      " 48  Receipt Survey Type                1489 non-null   object        \n",
      "dtypes: datetime64[ns](3), float64(20), object(26)\n",
      "memory usage: 581.6+ KB\n"
     ]
    }
   ],
   "source": [
    "clean_rental.info()"
   ]
  },
  {
   "cell_type": "markdown",
   "metadata": {
    "ExecuteTime": {
     "end_time": "2022-01-10T15:19:21.561320Z",
     "start_time": "2022-01-10T15:19:21.512389Z"
    }
   },
   "source": [
    "Next, I will go through each column and make decisions about data types, nulls and do any string formatting required."
   ]
  },
  {
   "cell_type": "markdown",
   "metadata": {},
   "source": [
    "## Location"
   ]
  },
  {
   "cell_type": "code",
   "execution_count": 7,
   "metadata": {
    "ExecuteTime": {
     "end_time": "2022-01-11T17:52:42.926220Z",
     "start_time": "2022-01-11T17:52:42.916072Z"
    }
   },
   "outputs": [
    {
     "data": {
      "text/html": [
       "<div>\n",
       "<style scoped>\n",
       "    .dataframe tbody tr th:only-of-type {\n",
       "        vertical-align: middle;\n",
       "    }\n",
       "\n",
       "    .dataframe tbody tr th {\n",
       "        vertical-align: top;\n",
       "    }\n",
       "\n",
       "    .dataframe thead th {\n",
       "        text-align: right;\n",
       "    }\n",
       "</style>\n",
       "<table border=\"1\" class=\"dataframe\">\n",
       "  <thead>\n",
       "    <tr style=\"text-align: right;\">\n",
       "      <th></th>\n",
       "      <th>Main Hierarchy</th>\n",
       "      <th>Main Hierarchy.1</th>\n",
       "      <th>Location</th>\n",
       "    </tr>\n",
       "  </thead>\n",
       "  <tbody>\n",
       "    <tr>\n",
       "      <th>3</th>\n",
       "      <td>02160 - HTZ - PHX - PHOENIX AZ AP</td>\n",
       "      <td>0216003 - HTZ - PHX - CUTTER AVIATION AZ</td>\n",
       "      <td>0216003 - HTZ - PHX - CUTTER AVIATION AZ</td>\n",
       "    </tr>\n",
       "    <tr>\n",
       "      <th>5</th>\n",
       "      <td>02160 - HTZ - PHX - PHOENIX AZ AP</td>\n",
       "      <td>0216011 - HTZ - PHX - PHOENIX AZ AP</td>\n",
       "      <td>0216011 - HTZ - PHX - PHOENIX AZ AP</td>\n",
       "    </tr>\n",
       "    <tr>\n",
       "      <th>6</th>\n",
       "      <td>02160 - HTZ - PHX - PHOENIX AZ AP</td>\n",
       "      <td>0216011 - HTZ - PHX - PHOENIX AZ AP</td>\n",
       "      <td>0216011 - HTZ - PHX - PHOENIX AZ AP</td>\n",
       "    </tr>\n",
       "    <tr>\n",
       "      <th>7</th>\n",
       "      <td>02160 - HTZ - PHX - PHOENIX AZ AP</td>\n",
       "      <td>0216011 - HTZ - PHX - PHOENIX AZ AP</td>\n",
       "      <td>0216011 - HTZ - PHX - PHOENIX AZ AP</td>\n",
       "    </tr>\n",
       "    <tr>\n",
       "      <th>8</th>\n",
       "      <td>02160 - HTZ - PHX - PHOENIX AZ AP</td>\n",
       "      <td>0216011 - HTZ - PHX - PHOENIX AZ AP</td>\n",
       "      <td>0216011 - HTZ - PHX - PHOENIX AZ AP</td>\n",
       "    </tr>\n",
       "    <tr>\n",
       "      <th>...</th>\n",
       "      <td>...</td>\n",
       "      <td>...</td>\n",
       "      <td>...</td>\n",
       "    </tr>\n",
       "    <tr>\n",
       "      <th>1488</th>\n",
       "      <td>02160 - HTZ - PHX - PHOENIX AZ AP</td>\n",
       "      <td>0216011 - HTZ - PHX - PHOENIX AZ AP</td>\n",
       "      <td>0216011 - HTZ - PHX - PHOENIX AZ AP</td>\n",
       "    </tr>\n",
       "    <tr>\n",
       "      <th>1489</th>\n",
       "      <td>02160 - HTZ - PHX - PHOENIX AZ AP</td>\n",
       "      <td>0216011 - HTZ - PHX - PHOENIX AZ AP</td>\n",
       "      <td>0216011 - HTZ - PHX - PHOENIX AZ AP</td>\n",
       "    </tr>\n",
       "    <tr>\n",
       "      <th>1490</th>\n",
       "      <td>02160 - HTZ - PHX - PHOENIX AZ AP</td>\n",
       "      <td>0216011 - HTZ - PHX - PHOENIX AZ AP</td>\n",
       "      <td>0216011 - HTZ - PHX - PHOENIX AZ AP</td>\n",
       "    </tr>\n",
       "    <tr>\n",
       "      <th>1492</th>\n",
       "      <td>02160 - HTZ - PHX - PHOENIX AZ AP</td>\n",
       "      <td>0216029 - HTZ - PHX - HILTON PHOENIX AIRPORT AZ</td>\n",
       "      <td>0216029 - HTZ - PHX - HILTON PHOENIX AIRPORT AZ</td>\n",
       "    </tr>\n",
       "    <tr>\n",
       "      <th>1494</th>\n",
       "      <td>02160 - HTZ - PHX - PHOENIX AZ AP</td>\n",
       "      <td>0216032 - HTZ - PHX - SWIFT AVIATION AZ</td>\n",
       "      <td>0216032 - HTZ - PHX - SWIFT AVIATION AZ</td>\n",
       "    </tr>\n",
       "  </tbody>\n",
       "</table>\n",
       "<p>1489 rows × 3 columns</p>\n",
       "</div>"
      ],
      "text/plain": [
       "                         Main Hierarchy  \\\n",
       "3     02160 - HTZ - PHX - PHOENIX AZ AP   \n",
       "5     02160 - HTZ - PHX - PHOENIX AZ AP   \n",
       "6     02160 - HTZ - PHX - PHOENIX AZ AP   \n",
       "7     02160 - HTZ - PHX - PHOENIX AZ AP   \n",
       "8     02160 - HTZ - PHX - PHOENIX AZ AP   \n",
       "...                                 ...   \n",
       "1488  02160 - HTZ - PHX - PHOENIX AZ AP   \n",
       "1489  02160 - HTZ - PHX - PHOENIX AZ AP   \n",
       "1490  02160 - HTZ - PHX - PHOENIX AZ AP   \n",
       "1492  02160 - HTZ - PHX - PHOENIX AZ AP   \n",
       "1494  02160 - HTZ - PHX - PHOENIX AZ AP   \n",
       "\n",
       "                                     Main Hierarchy.1  \\\n",
       "3            0216003 - HTZ - PHX - CUTTER AVIATION AZ   \n",
       "5                 0216011 - HTZ - PHX - PHOENIX AZ AP   \n",
       "6                 0216011 - HTZ - PHX - PHOENIX AZ AP   \n",
       "7                 0216011 - HTZ - PHX - PHOENIX AZ AP   \n",
       "8                 0216011 - HTZ - PHX - PHOENIX AZ AP   \n",
       "...                                               ...   \n",
       "1488              0216011 - HTZ - PHX - PHOENIX AZ AP   \n",
       "1489              0216011 - HTZ - PHX - PHOENIX AZ AP   \n",
       "1490              0216011 - HTZ - PHX - PHOENIX AZ AP   \n",
       "1492  0216029 - HTZ - PHX - HILTON PHOENIX AIRPORT AZ   \n",
       "1494          0216032 - HTZ - PHX - SWIFT AVIATION AZ   \n",
       "\n",
       "                                             Location  \n",
       "3            0216003 - HTZ - PHX - CUTTER AVIATION AZ  \n",
       "5                 0216011 - HTZ - PHX - PHOENIX AZ AP  \n",
       "6                 0216011 - HTZ - PHX - PHOENIX AZ AP  \n",
       "7                 0216011 - HTZ - PHX - PHOENIX AZ AP  \n",
       "8                 0216011 - HTZ - PHX - PHOENIX AZ AP  \n",
       "...                                               ...  \n",
       "1488              0216011 - HTZ - PHX - PHOENIX AZ AP  \n",
       "1489              0216011 - HTZ - PHX - PHOENIX AZ AP  \n",
       "1490              0216011 - HTZ - PHX - PHOENIX AZ AP  \n",
       "1492  0216029 - HTZ - PHX - HILTON PHOENIX AIRPORT AZ  \n",
       "1494          0216032 - HTZ - PHX - SWIFT AVIATION AZ  \n",
       "\n",
       "[1489 rows x 3 columns]"
      ]
     },
     "execution_count": 7,
     "metadata": {},
     "output_type": "execute_result"
    }
   ],
   "source": [
    "clean_rental.iloc[:,0:3]"
   ]
  },
  {
   "cell_type": "code",
   "execution_count": 8,
   "metadata": {
    "ExecuteTime": {
     "end_time": "2022-01-11T17:52:42.933135Z",
     "start_time": "2022-01-11T17:52:42.928941Z"
    }
   },
   "outputs": [
    {
     "data": {
      "text/plain": [
       "0216011 - HTZ - PHX - PHOENIX AZ AP                1486\n",
       "0216003 - HTZ - PHX - CUTTER AVIATION AZ              1\n",
       "0216029 - HTZ - PHX - HILTON PHOENIX AIRPORT AZ       1\n",
       "0216032 - HTZ - PHX - SWIFT AVIATION AZ               1\n",
       "Name: Location, dtype: int64"
      ]
     },
     "execution_count": 8,
     "metadata": {},
     "output_type": "execute_result"
    }
   ],
   "source": [
    "clean_rental['Location'].value_counts()"
   ]
  },
  {
   "cell_type": "code",
   "execution_count": 9,
   "metadata": {
    "ExecuteTime": {
     "end_time": "2022-01-11T17:52:42.939337Z",
     "start_time": "2022-01-11T17:52:42.935335Z"
    }
   },
   "outputs": [
    {
     "data": {
      "text/plain": [
       "02160 - HTZ - PHX - PHOENIX AZ AP    1489\n",
       "Name: Main Hierarchy, dtype: int64"
      ]
     },
     "execution_count": 9,
     "metadata": {},
     "output_type": "execute_result"
    }
   ],
   "source": [
    "clean_rental['Main Hierarchy'].value_counts()"
   ]
  },
  {
   "cell_type": "markdown",
   "metadata": {},
   "source": [
    "It appears that all of the cars are assigned to the Phoenix airport and 3 (0.2%) of them were picked up from an alternate location. Because there is so little information contained in these columns, I will remove them."
   ]
  },
  {
   "cell_type": "code",
   "execution_count": 10,
   "metadata": {
    "ExecuteTime": {
     "end_time": "2022-01-11T17:52:42.944235Z",
     "start_time": "2022-01-11T17:52:42.940793Z"
    }
   },
   "outputs": [],
   "source": [
    "clean_rental.drop(['Main Hierarchy', 'Main Hierarchy.1', 'Location'], axis=1, inplace=True)"
   ]
  },
  {
   "cell_type": "markdown",
   "metadata": {},
   "source": [
    "## RA Number"
   ]
  },
  {
   "cell_type": "code",
   "execution_count": 11,
   "metadata": {
    "ExecuteTime": {
     "end_time": "2022-01-11T17:52:42.949609Z",
     "start_time": "2022-01-11T17:52:42.945509Z"
    }
   },
   "outputs": [
    {
     "data": {
      "text/plain": [
       "1489"
      ]
     },
     "execution_count": 11,
     "metadata": {},
     "output_type": "execute_result"
    }
   ],
   "source": [
    "clean_rental['RA Number'].nunique()"
   ]
  },
  {
   "cell_type": "markdown",
   "metadata": {},
   "source": [
    "This column is a unique identifier. "
   ]
  },
  {
   "cell_type": "markdown",
   "metadata": {},
   "source": [
    "## Brand"
   ]
  },
  {
   "cell_type": "code",
   "execution_count": 12,
   "metadata": {
    "ExecuteTime": {
     "end_time": "2022-01-11T17:52:42.955827Z",
     "start_time": "2022-01-11T17:52:42.951482Z"
    }
   },
   "outputs": [
    {
     "data": {
      "text/plain": [
       "Hertz    1489\n",
       "Name: Brand, dtype: int64"
      ]
     },
     "execution_count": 12,
     "metadata": {},
     "output_type": "execute_result"
    }
   ],
   "source": [
    "clean_rental['Brand'].value_counts()"
   ]
  },
  {
   "cell_type": "markdown",
   "metadata": {},
   "source": [
    "All of the cars are from Hertz. This column can be removed because it contains no additional information."
   ]
  },
  {
   "cell_type": "code",
   "execution_count": 13,
   "metadata": {
    "ExecuteTime": {
     "end_time": "2022-01-11T17:52:42.960396Z",
     "start_time": "2022-01-11T17:52:42.957417Z"
    }
   },
   "outputs": [],
   "source": [
    "clean_rental.drop('Brand', axis=1, inplace=True)"
   ]
  },
  {
   "cell_type": "markdown",
   "metadata": {},
   "source": [
    "## Date of Survey"
   ]
  },
  {
   "cell_type": "code",
   "execution_count": 14,
   "metadata": {
    "ExecuteTime": {
     "end_time": "2022-01-11T17:52:42.969414Z",
     "start_time": "2022-01-11T17:52:42.961779Z"
    }
   },
   "outputs": [
    {
     "name": "stderr",
     "output_type": "stream",
     "text": [
      "<ipython-input-14-ed8df935ca74>:1: FutureWarning: Treating datetime data as categorical rather than numeric in `.describe` is deprecated and will be removed in a future version of pandas. Specify `datetime_is_numeric=True` to silence this warning and adopt the future behavior now.\n",
      "  clean_rental['Date of Survey'].describe()\n"
     ]
    },
    {
     "data": {
      "text/plain": [
       "count                    1489\n",
       "unique                     23\n",
       "top       2019-07-08 00:00:00\n",
       "freq                      100\n",
       "first     2019-07-01 00:00:00\n",
       "last      2019-07-23 00:00:00\n",
       "Name: Date of Survey, dtype: object"
      ]
     },
     "execution_count": 14,
     "metadata": {},
     "output_type": "execute_result"
    }
   ],
   "source": [
    "clean_rental['Date of Survey'].describe()"
   ]
  },
  {
   "cell_type": "code",
   "execution_count": 15,
   "metadata": {
    "ExecuteTime": {
     "end_time": "2022-01-11T17:52:42.977001Z",
     "start_time": "2022-01-11T17:52:42.970824Z"
    }
   },
   "outputs": [
    {
     "data": {
      "text/plain": [
       "2019-07-01     77\n",
       "2019-07-02     88\n",
       "2019-07-03     49\n",
       "2019-07-04     62\n",
       "2019-07-05     37\n",
       "2019-07-06     48\n",
       "2019-07-07     64\n",
       "2019-07-08    100\n",
       "2019-07-09     56\n",
       "2019-07-10     57\n",
       "2019-07-11     70\n",
       "2019-07-12     63\n",
       "2019-07-13     60\n",
       "2019-07-14     54\n",
       "2019-07-15     92\n",
       "2019-07-16     73\n",
       "2019-07-17     61\n",
       "2019-07-18     58\n",
       "2019-07-19     46\n",
       "2019-07-20     55\n",
       "2019-07-21     74\n",
       "2019-07-22     97\n",
       "2019-07-23     48\n",
       "Name: Date of Survey, dtype: int64"
      ]
     },
     "execution_count": 15,
     "metadata": {},
     "output_type": "execute_result"
    }
   ],
   "source": [
    "clean_rental['Date of Survey'].value_counts().sort_index()"
   ]
  },
  {
   "cell_type": "markdown",
   "metadata": {},
   "source": [
    "This data is from surveys that were administered from 7/1/2019 to 7/23/2019. "
   ]
  },
  {
   "cell_type": "code",
   "execution_count": 16,
   "metadata": {
    "ExecuteTime": {
     "end_time": "2022-01-11T17:52:43.222456Z",
     "start_time": "2022-01-11T17:52:42.979109Z"
    }
   },
   "outputs": [
    {
     "data": {
      "image/png": "[encoded data removed]",
      "text/plain": [
       "<Figure size 432x288 with 1 Axes>"
      ]
     },
     "metadata": {},
     "output_type": "display_data"
    }
   ],
   "source": [
    "clean_rental['Date of Survey'].value_counts().sort_index().plot(color='darkblue')\n",
    "plt.title('Surveys Completed by Date');"
   ]
  },
  {
   "cell_type": "markdown",
   "metadata": {},
   "source": [
    "The seasonality is immediately apparent. To explore if this is related to the day of the week, I will add a day of week column."
   ]
  },
  {
   "cell_type": "code",
   "execution_count": 17,
   "metadata": {
    "ExecuteTime": {
     "end_time": "2022-01-11T17:52:43.227785Z",
     "start_time": "2022-01-11T17:52:43.224331Z"
    }
   },
   "outputs": [],
   "source": [
    "clean_rental['Survey Day of Week'] = (\n",
    "    clean_rental['Date of Survey'].dt.dayofweek\n",
    ")"
   ]
  },
  {
   "cell_type": "code",
   "execution_count": 18,
   "metadata": {
    "ExecuteTime": {
     "end_time": "2022-01-11T17:52:43.350475Z",
     "start_time": "2022-01-11T17:52:43.229484Z"
    }
   },
   "outputs": [
    {
     "data": {
      "image/png": "[encoded data removed]",
      "text/plain": [
       "<Figure size 432x288 with 1 Axes>"
      ]
     },
     "metadata": {},
     "output_type": "display_data"
    }
   ],
   "source": [
    "clean_rental['Survey Day of Week'].value_counts().sort_index().plot(\n",
    "    kind='bar',\n",
    "    color='lightblue'\n",
    ")\n",
    "plt.title('Surveys Completed by Day of Week')\n",
    "plt.xlabel('Day of week')\n",
    "plt.ylabel('Surveys completed')\n",
    "plt.grid(False);"
   ]
  },
  {
   "cell_type": "markdown",
   "metadata": {},
   "source": [
    "People are more likely to complete surveys on Monday or Tuesday. This may be related to when they turn in the car. I will investigate that later."
   ]
  },
  {
   "cell_type": "markdown",
   "metadata": {},
   "source": [
    "## Check-Out Day and Time"
   ]
  },
  {
   "cell_type": "code",
   "execution_count": 19,
   "metadata": {
    "ExecuteTime": {
     "end_time": "2022-01-11T17:52:43.359567Z",
     "start_time": "2022-01-11T17:52:43.352474Z"
    }
   },
   "outputs": [
    {
     "name": "stderr",
     "output_type": "stream",
     "text": [
      "<ipython-input-19-fa6d74450f59>:1: FutureWarning: Treating datetime data as categorical rather than numeric in `.describe` is deprecated and will be removed in a future version of pandas. Specify `datetime_is_numeric=True` to silence this warning and adopt the future behavior now.\n",
      "  clean_rental['Check-Out Day'].describe()\n"
     ]
    },
    {
     "data": {
      "text/plain": [
       "count                    1489\n",
       "unique                     48\n",
       "top       2019-07-08 00:00:00\n",
       "freq                       89\n",
       "first     2019-05-11 00:00:00\n",
       "last      2019-07-22 00:00:00\n",
       "Name: Check-Out Day, dtype: object"
      ]
     },
     "execution_count": 19,
     "metadata": {},
     "output_type": "execute_result"
    }
   ],
   "source": [
    "clean_rental['Check-Out Day'].describe()"
   ]
  },
  {
   "cell_type": "code",
   "execution_count": 20,
   "metadata": {
    "ExecuteTime": {
     "end_time": "2022-01-11T17:52:43.536402Z",
     "start_time": "2022-01-11T17:52:43.360867Z"
    }
   },
   "outputs": [
    {
     "data": {
      "image/png": "[encoded data removed]",
      "text/plain": [
       "<Figure size 432x288 with 1 Axes>"
      ]
     },
     "metadata": {},
     "output_type": "display_data"
    }
   ],
   "source": [
    "clean_rental['Check-Out Day'].value_counts().sort_index().plot(color='darkblue')\n",
    "plt.title('Number of Cars Checked Out Each Day, 5/15-7/22')\n",
    "plt.grid(False);"
   ]
  },
  {
   "cell_type": "markdown",
   "metadata": {},
   "source": [
    "While a few cars were checked out before mid-June, most were checked out in July, suggesting shorter-term rentals. Again, there is indication of seasonality. I will add a column with the day of the week the car is checked out. "
   ]
  },
  {
   "cell_type": "code",
   "execution_count": 21,
   "metadata": {
    "ExecuteTime": {
     "end_time": "2022-01-11T17:52:43.655674Z",
     "start_time": "2022-01-11T17:52:43.538409Z"
    }
   },
   "outputs": [
    {
     "data": {
      "image/png": "[encoded data removed]",
      "text/plain": [
       "<Figure size 432x288 with 1 Axes>"
      ]
     },
     "metadata": {},
     "output_type": "display_data"
    }
   ],
   "source": [
    "clean_rental['Day of Week Checked Out'] = (\n",
    "    clean_rental['Check-Out Day'].dt.dayofweek\n",
    ")\n",
    "clean_rental['Day of Week Checked Out'].value_counts().sort_index().plot(\n",
    "    kind='bar',\n",
    "    color='lightblue'\n",
    ")\n",
    "plt.title('Number of Cars Checked Out by Day of Week')\n",
    "plt.xlabel('Day of week')\n",
    "plt.ylabel('Number of cars')\n",
    "plt.grid(False);"
   ]
  },
  {
   "cell_type": "markdown",
   "metadata": {},
   "source": [
    "There is less variability here than with the survey completion date. Interestingly, Wednesday is the most popular date to check out a car. "
   ]
  },
  {
   "cell_type": "code",
   "execution_count": 22,
   "metadata": {
    "ExecuteTime": {
     "end_time": "2022-01-11T17:52:43.663574Z",
     "start_time": "2022-01-11T17:52:43.657724Z"
    }
   },
   "outputs": [
    {
     "data": {
      "text/plain": [
       "count         1343\n",
       "unique         725\n",
       "top       10:37 AM\n",
       "freq             9\n",
       "Name: Check-Out Time, dtype: object"
      ]
     },
     "execution_count": 22,
     "metadata": {},
     "output_type": "execute_result"
    }
   ],
   "source": [
    "clean_rental['Check-Out Time'].describe()"
   ]
  },
  {
   "cell_type": "code",
   "execution_count": 23,
   "metadata": {
    "ExecuteTime": {
     "end_time": "2022-01-11T17:52:43.672221Z",
     "start_time": "2022-01-11T17:52:43.668784Z"
    }
   },
   "outputs": [
    {
     "data": {
      "text/plain": [
       "146"
      ]
     },
     "execution_count": 23,
     "metadata": {},
     "output_type": "execute_result"
    }
   ],
   "source": [
    "clean_rental['Check-Out Time'].isna().sum()"
   ]
  },
  {
   "cell_type": "code",
   "execution_count": 24,
   "metadata": {
    "ExecuteTime": {
     "end_time": "2022-01-11T17:52:43.679255Z",
     "start_time": "2022-01-11T17:52:43.675758Z"
    }
   },
   "outputs": [
    {
     "data": {
      "text/plain": [
       "3     10:30 AM\n",
       "5      8:21 PM\n",
       "6      3:32 PM\n",
       "7      1:07 PM\n",
       "8      9:40 AM\n",
       "9      1:46 PM\n",
       "10     4:39 PM\n",
       "11     6:49 AM\n",
       "12    10:28 AM\n",
       "13     5:21 PM\n",
       "14    10:24 AM\n",
       "15     5:55 PM\n",
       "16    10:56 AM\n",
       "17     6:14 PM\n",
       "18     2:05 PM\n",
       "19     4:38 PM\n",
       "20     9:56 PM\n",
       "21     1:46 PM\n",
       "22    10:58 AM\n",
       "23    12:01 AM\n",
       "Name: Check-Out Time, dtype: object"
      ]
     },
     "execution_count": 24,
     "metadata": {},
     "output_type": "execute_result"
    }
   ],
   "source": [
    "clean_rental['Check-Out Time'][:20]"
   ]
  },
  {
   "cell_type": "code",
   "execution_count": 25,
   "metadata": {
    "ExecuteTime": {
     "end_time": "2022-01-11T17:52:43.685565Z",
     "start_time": "2022-01-11T17:52:43.680609Z"
    }
   },
   "outputs": [
    {
     "data": {
      "text/plain": [
       "523"
      ]
     },
     "execution_count": 25,
     "metadata": {},
     "output_type": "execute_result"
    }
   ],
   "source": [
    "clean_rental['Check-Out Time'].str.contains('AM').sum()"
   ]
  },
  {
   "cell_type": "code",
   "execution_count": 26,
   "metadata": {
    "ExecuteTime": {
     "end_time": "2022-01-11T17:52:43.692363Z",
     "start_time": "2022-01-11T17:52:43.687922Z"
    }
   },
   "outputs": [
    {
     "data": {
      "text/plain": [
       "820"
      ]
     },
     "execution_count": 26,
     "metadata": {},
     "output_type": "execute_result"
    }
   ],
   "source": [
    "clean_rental['Check-Out Time'].str.contains('PM').sum()"
   ]
  },
  {
   "cell_type": "markdown",
   "metadata": {
    "ExecuteTime": {
     "end_time": "2022-01-10T16:37:45.588212Z",
     "start_time": "2022-01-10T16:37:45.583142Z"
    }
   },
   "source": [
    "There is significant variability with check-out time, as expected.  There are 146 null values (approximately 10%). The entries in the dataframe seem to be recorded by when the survey was returned, not by the check-out date and time, so the surrounding values give no clue to the missing data. With the given scenario, there is no need for this level of granularity and since any method to impute these values would reduce any information, I am going to delete the column."
   ]
  },
  {
   "cell_type": "code",
   "execution_count": 27,
   "metadata": {
    "ExecuteTime": {
     "end_time": "2022-01-11T17:52:43.698785Z",
     "start_time": "2022-01-11T17:52:43.694208Z"
    }
   },
   "outputs": [],
   "source": [
    "clean_rental.drop('Check-Out Time', axis=1, inplace=True)"
   ]
  },
  {
   "cell_type": "markdown",
   "metadata": {
    "ExecuteTime": {
     "end_time": "2022-01-10T16:56:03.607092Z",
     "start_time": "2022-01-10T16:56:03.602611Z"
    }
   },
   "source": [
    "## Check-In Date and Time"
   ]
  },
  {
   "cell_type": "code",
   "execution_count": 28,
   "metadata": {
    "ExecuteTime": {
     "end_time": "2022-01-11T17:52:43.705006Z",
     "start_time": "2022-01-11T17:52:43.700562Z"
    }
   },
   "outputs": [
    {
     "data": {
      "text/plain": [
       "140"
      ]
     },
     "execution_count": 28,
     "metadata": {},
     "output_type": "execute_result"
    }
   ],
   "source": [
    "clean_rental['Check-In Date'].isna().sum()"
   ]
  },
  {
   "cell_type": "markdown",
   "metadata": {},
   "source": [
    "Some customers seem to have completed a survey before turning in their rental car. I will examine those to ensure that they are indeed completed surveys."
   ]
  },
  {
   "cell_type": "code",
   "execution_count": 29,
   "metadata": {
    "ExecuteTime": {
     "end_time": "2022-01-11T17:52:43.738425Z",
     "start_time": "2022-01-11T17:52:43.706552Z"
    }
   },
   "outputs": [
    {
     "data": {
      "text/html": [
       "<div>\n",
       "<style scoped>\n",
       "    .dataframe tbody tr th:only-of-type {\n",
       "        vertical-align: middle;\n",
       "    }\n",
       "\n",
       "    .dataframe tbody tr th {\n",
       "        vertical-align: top;\n",
       "    }\n",
       "\n",
       "    .dataframe thead th {\n",
       "        text-align: right;\n",
       "    }\n",
       "</style>\n",
       "<table border=\"1\" class=\"dataframe\">\n",
       "  <thead>\n",
       "    <tr style=\"text-align: right;\">\n",
       "      <th></th>\n",
       "      <th>RA Number</th>\n",
       "      <th>Date of Survey</th>\n",
       "      <th>Check-Out Day</th>\n",
       "      <th>Original Customer Tier Code</th>\n",
       "      <th>#1 Club Number</th>\n",
       "      <th>Contract</th>\n",
       "      <th>NPS Score</th>\n",
       "      <th>Recommend</th>\n",
       "      <th>Recommend Comment</th>\n",
       "      <th>Overall Satisfaction with Vehicle</th>\n",
       "      <th>...</th>\n",
       "      <th>Pickup CSR Number</th>\n",
       "      <th>Vehicle Model Code</th>\n",
       "      <th>Vehicle Model Description</th>\n",
       "      <th>Check-In Date</th>\n",
       "      <th>Check-In Time</th>\n",
       "      <th>Member?</th>\n",
       "      <th>Checkout Mileage</th>\n",
       "      <th>Receipt Survey Type</th>\n",
       "      <th>Survey Day of Week</th>\n",
       "      <th>Day of Week Checked Out</th>\n",
       "    </tr>\n",
       "  </thead>\n",
       "  <tbody>\n",
       "    <tr>\n",
       "      <th>1347</th>\n",
       "      <td>834824325</td>\n",
       "      <td>2019-07-22</td>\n",
       "      <td>2019-07-07</td>\n",
       "      <td>Regular Gold</td>\n",
       "      <td>63434384.0</td>\n",
       "      <td>160528.0</td>\n",
       "      <td>100.0</td>\n",
       "      <td>9.0</td>\n",
       "      <td>NaN</td>\n",
       "      <td>9.0</td>\n",
       "      <td>...</td>\n",
       "      <td>NaN</td>\n",
       "      <td>NaN</td>\n",
       "      <td>NaN</td>\n",
       "      <td>NaT</td>\n",
       "      <td>NaN</td>\n",
       "      <td>Yes</td>\n",
       "      <td>NaN</td>\n",
       "      <td>Email Invite</td>\n",
       "      <td>0</td>\n",
       "      <td>6</td>\n",
       "    </tr>\n",
       "    <tr>\n",
       "      <th>1348</th>\n",
       "      <td>913045836</td>\n",
       "      <td>2019-07-22</td>\n",
       "      <td>2019-07-17</td>\n",
       "      <td>Regular Gold</td>\n",
       "      <td>99297170.0</td>\n",
       "      <td>285724.0</td>\n",
       "      <td>0.0</td>\n",
       "      <td>8.0</td>\n",
       "      <td>Great service</td>\n",
       "      <td>8.0</td>\n",
       "      <td>...</td>\n",
       "      <td>NaN</td>\n",
       "      <td>NaN</td>\n",
       "      <td>NaN</td>\n",
       "      <td>NaT</td>\n",
       "      <td>NaN</td>\n",
       "      <td>Yes</td>\n",
       "      <td>NaN</td>\n",
       "      <td>Email Invite</td>\n",
       "      <td>0</td>\n",
       "      <td>2</td>\n",
       "    </tr>\n",
       "    <tr>\n",
       "      <th>1349</th>\n",
       "      <td>913915015</td>\n",
       "      <td>2019-07-22</td>\n",
       "      <td>2019-07-18</td>\n",
       "      <td>Regular Gold</td>\n",
       "      <td>36791402.0</td>\n",
       "      <td>4438.0</td>\n",
       "      <td>0.0</td>\n",
       "      <td>8.0</td>\n",
       "      <td>Great service but only one car to choose from</td>\n",
       "      <td>7.0</td>\n",
       "      <td>...</td>\n",
       "      <td>NaN</td>\n",
       "      <td>NaN</td>\n",
       "      <td>NaN</td>\n",
       "      <td>NaT</td>\n",
       "      <td>NaN</td>\n",
       "      <td>Yes</td>\n",
       "      <td>NaN</td>\n",
       "      <td>Email Invite</td>\n",
       "      <td>0</td>\n",
       "      <td>3</td>\n",
       "    </tr>\n",
       "    <tr>\n",
       "      <th>1350</th>\n",
       "      <td>912256030</td>\n",
       "      <td>2019-07-22</td>\n",
       "      <td>2019-07-16</td>\n",
       "      <td>Presidents Circle</td>\n",
       "      <td>66083609.0</td>\n",
       "      <td>66556.0</td>\n",
       "      <td>100.0</td>\n",
       "      <td>10.0</td>\n",
       "      <td>You're the best in the business...</td>\n",
       "      <td>10.0</td>\n",
       "      <td>...</td>\n",
       "      <td>NaN</td>\n",
       "      <td>NaN</td>\n",
       "      <td>NaN</td>\n",
       "      <td>NaT</td>\n",
       "      <td>NaN</td>\n",
       "      <td>Yes</td>\n",
       "      <td>NaN</td>\n",
       "      <td>Email Invite</td>\n",
       "      <td>0</td>\n",
       "      <td>1</td>\n",
       "    </tr>\n",
       "    <tr>\n",
       "      <th>1351</th>\n",
       "      <td>915122773</td>\n",
       "      <td>2019-07-22</td>\n",
       "      <td>2019-07-19</td>\n",
       "      <td>Regular Gold</td>\n",
       "      <td>30661726.0</td>\n",
       "      <td>282707.0</td>\n",
       "      <td>100.0</td>\n",
       "      <td>10.0</td>\n",
       "      <td>NaN</td>\n",
       "      <td>10.0</td>\n",
       "      <td>...</td>\n",
       "      <td>NaN</td>\n",
       "      <td>NaN</td>\n",
       "      <td>NaN</td>\n",
       "      <td>NaT</td>\n",
       "      <td>NaN</td>\n",
       "      <td>Yes</td>\n",
       "      <td>NaN</td>\n",
       "      <td>Email Invite</td>\n",
       "      <td>0</td>\n",
       "      <td>4</td>\n",
       "    </tr>\n",
       "    <tr>\n",
       "      <th>...</th>\n",
       "      <td>...</td>\n",
       "      <td>...</td>\n",
       "      <td>...</td>\n",
       "      <td>...</td>\n",
       "      <td>...</td>\n",
       "      <td>...</td>\n",
       "      <td>...</td>\n",
       "      <td>...</td>\n",
       "      <td>...</td>\n",
       "      <td>...</td>\n",
       "      <td>...</td>\n",
       "      <td>...</td>\n",
       "      <td>...</td>\n",
       "      <td>...</td>\n",
       "      <td>...</td>\n",
       "      <td>...</td>\n",
       "      <td>...</td>\n",
       "      <td>...</td>\n",
       "      <td>...</td>\n",
       "      <td>...</td>\n",
       "      <td>...</td>\n",
       "    </tr>\n",
       "    <tr>\n",
       "      <th>1487</th>\n",
       "      <td>913488660</td>\n",
       "      <td>2019-07-23</td>\n",
       "      <td>2019-07-18</td>\n",
       "      <td>Non-Member</td>\n",
       "      <td>0.0</td>\n",
       "      <td>NaN</td>\n",
       "      <td>100.0</td>\n",
       "      <td>9.0</td>\n",
       "      <td>Brand new car. Prompt service.</td>\n",
       "      <td>10.0</td>\n",
       "      <td>...</td>\n",
       "      <td>NaN</td>\n",
       "      <td>NaN</td>\n",
       "      <td>NaN</td>\n",
       "      <td>NaT</td>\n",
       "      <td>NaN</td>\n",
       "      <td>No</td>\n",
       "      <td>NaN</td>\n",
       "      <td>Email Invite</td>\n",
       "      <td>1</td>\n",
       "      <td>3</td>\n",
       "    </tr>\n",
       "    <tr>\n",
       "      <th>1488</th>\n",
       "      <td>834507531</td>\n",
       "      <td>2019-07-23</td>\n",
       "      <td>2019-07-07</td>\n",
       "      <td>Presidents Circle</td>\n",
       "      <td>51437418.0</td>\n",
       "      <td>305875.0</td>\n",
       "      <td>-100.0</td>\n",
       "      <td>0.0</td>\n",
       "      <td>Please contact me so I can explain to a “live”...</td>\n",
       "      <td>5.0</td>\n",
       "      <td>...</td>\n",
       "      <td>NaN</td>\n",
       "      <td>NaN</td>\n",
       "      <td>NaN</td>\n",
       "      <td>NaT</td>\n",
       "      <td>NaN</td>\n",
       "      <td>Yes</td>\n",
       "      <td>NaN</td>\n",
       "      <td>Email Invite</td>\n",
       "      <td>1</td>\n",
       "      <td>6</td>\n",
       "    </tr>\n",
       "    <tr>\n",
       "      <th>1489</th>\n",
       "      <td>913646554</td>\n",
       "      <td>2019-07-23</td>\n",
       "      <td>2019-07-18</td>\n",
       "      <td>Regular Gold</td>\n",
       "      <td>97783751.0</td>\n",
       "      <td>160528.0</td>\n",
       "      <td>100.0</td>\n",
       "      <td>10.0</td>\n",
       "      <td>NaN</td>\n",
       "      <td>NaN</td>\n",
       "      <td>...</td>\n",
       "      <td>NaN</td>\n",
       "      <td>NaN</td>\n",
       "      <td>NaN</td>\n",
       "      <td>NaT</td>\n",
       "      <td>NaN</td>\n",
       "      <td>Yes</td>\n",
       "      <td>NaN</td>\n",
       "      <td>Email Invite</td>\n",
       "      <td>1</td>\n",
       "      <td>3</td>\n",
       "    </tr>\n",
       "    <tr>\n",
       "      <th>1490</th>\n",
       "      <td>914882544</td>\n",
       "      <td>2019-07-23</td>\n",
       "      <td>2019-07-19</td>\n",
       "      <td>Regular Gold</td>\n",
       "      <td>99572545.0</td>\n",
       "      <td>26317.0</td>\n",
       "      <td>100.0</td>\n",
       "      <td>10.0</td>\n",
       "      <td>NaN</td>\n",
       "      <td>10.0</td>\n",
       "      <td>...</td>\n",
       "      <td>NaN</td>\n",
       "      <td>NaN</td>\n",
       "      <td>NaN</td>\n",
       "      <td>NaT</td>\n",
       "      <td>NaN</td>\n",
       "      <td>Yes</td>\n",
       "      <td>NaN</td>\n",
       "      <td>Email Invite</td>\n",
       "      <td>1</td>\n",
       "      <td>4</td>\n",
       "    </tr>\n",
       "    <tr>\n",
       "      <th>1492</th>\n",
       "      <td>915389193</td>\n",
       "      <td>2019-07-22</td>\n",
       "      <td>2019-07-20</td>\n",
       "      <td>Regular Gold</td>\n",
       "      <td>99538100.0</td>\n",
       "      <td>180784.0</td>\n",
       "      <td>0.0</td>\n",
       "      <td>8.0</td>\n",
       "      <td>Difficult to book online. Had to phone 5 diffe...</td>\n",
       "      <td>10.0</td>\n",
       "      <td>...</td>\n",
       "      <td>NaN</td>\n",
       "      <td>NaN</td>\n",
       "      <td>NaN</td>\n",
       "      <td>NaT</td>\n",
       "      <td>NaN</td>\n",
       "      <td>Yes</td>\n",
       "      <td>NaN</td>\n",
       "      <td>Email Invite</td>\n",
       "      <td>0</td>\n",
       "      <td>5</td>\n",
       "    </tr>\n",
       "  </tbody>\n",
       "</table>\n",
       "<p>140 rows × 46 columns</p>\n",
       "</div>"
      ],
      "text/plain": [
       "      RA Number Date of Survey Check-Out Day Original Customer Tier Code  \\\n",
       "1347  834824325     2019-07-22    2019-07-07                Regular Gold   \n",
       "1348  913045836     2019-07-22    2019-07-17                Regular Gold   \n",
       "1349  913915015     2019-07-22    2019-07-18                Regular Gold   \n",
       "1350  912256030     2019-07-22    2019-07-16           Presidents Circle   \n",
       "1351  915122773     2019-07-22    2019-07-19                Regular Gold   \n",
       "...         ...            ...           ...                         ...   \n",
       "1487  913488660     2019-07-23    2019-07-18                  Non-Member   \n",
       "1488  834507531     2019-07-23    2019-07-07           Presidents Circle   \n",
       "1489  913646554     2019-07-23    2019-07-18                Regular Gold   \n",
       "1490  914882544     2019-07-23    2019-07-19                Regular Gold   \n",
       "1492  915389193     2019-07-22    2019-07-20                Regular Gold   \n",
       "\n",
       "      #1 Club Number  Contract  NPS Score  Recommend  \\\n",
       "1347      63434384.0  160528.0      100.0        9.0   \n",
       "1348      99297170.0  285724.0        0.0        8.0   \n",
       "1349      36791402.0    4438.0        0.0        8.0   \n",
       "1350      66083609.0   66556.0      100.0       10.0   \n",
       "1351      30661726.0  282707.0      100.0       10.0   \n",
       "...              ...       ...        ...        ...   \n",
       "1487             0.0       NaN      100.0        9.0   \n",
       "1488      51437418.0  305875.0     -100.0        0.0   \n",
       "1489      97783751.0  160528.0      100.0       10.0   \n",
       "1490      99572545.0   26317.0      100.0       10.0   \n",
       "1492      99538100.0  180784.0        0.0        8.0   \n",
       "\n",
       "                                      Recommend Comment  \\\n",
       "1347                                                NaN   \n",
       "1348                                      Great service   \n",
       "1349      Great service but only one car to choose from   \n",
       "1350                 You're the best in the business...   \n",
       "1351                                                NaN   \n",
       "...                                                 ...   \n",
       "1487                     Brand new car. Prompt service.   \n",
       "1488  Please contact me so I can explain to a “live”...   \n",
       "1489                                                NaN   \n",
       "1490                                                NaN   \n",
       "1492  Difficult to book online. Had to phone 5 diffe...   \n",
       "\n",
       "      Overall Satisfaction with Vehicle  ...  Pickup CSR Number  \\\n",
       "1347                                9.0  ...                NaN   \n",
       "1348                                8.0  ...                NaN   \n",
       "1349                                7.0  ...                NaN   \n",
       "1350                               10.0  ...                NaN   \n",
       "1351                               10.0  ...                NaN   \n",
       "...                                 ...  ...                ...   \n",
       "1487                               10.0  ...                NaN   \n",
       "1488                                5.0  ...                NaN   \n",
       "1489                                NaN  ...                NaN   \n",
       "1490                               10.0  ...                NaN   \n",
       "1492                               10.0  ...                NaN   \n",
       "\n",
       "      Vehicle Model Code  Vehicle Model Description  Check-In Date  \\\n",
       "1347                 NaN                        NaN            NaT   \n",
       "1348                 NaN                        NaN            NaT   \n",
       "1349                 NaN                        NaN            NaT   \n",
       "1350                 NaN                        NaN            NaT   \n",
       "1351                 NaN                        NaN            NaT   \n",
       "...                  ...                        ...            ...   \n",
       "1487                 NaN                        NaN            NaT   \n",
       "1488                 NaN                        NaN            NaT   \n",
       "1489                 NaN                        NaN            NaT   \n",
       "1490                 NaN                        NaN            NaT   \n",
       "1492                 NaN                        NaN            NaT   \n",
       "\n",
       "      Check-In Time  Member?  Checkout Mileage  Receipt Survey Type  \\\n",
       "1347            NaN      Yes               NaN         Email Invite   \n",
       "1348            NaN      Yes               NaN         Email Invite   \n",
       "1349            NaN      Yes               NaN         Email Invite   \n",
       "1350            NaN      Yes               NaN         Email Invite   \n",
       "1351            NaN      Yes               NaN         Email Invite   \n",
       "...             ...      ...               ...                  ...   \n",
       "1487            NaN       No               NaN         Email Invite   \n",
       "1488            NaN      Yes               NaN         Email Invite   \n",
       "1489            NaN      Yes               NaN         Email Invite   \n",
       "1490            NaN      Yes               NaN         Email Invite   \n",
       "1492            NaN      Yes               NaN         Email Invite   \n",
       "\n",
       "      Survey Day of Week  Day of Week Checked Out  \n",
       "1347                   0                        6  \n",
       "1348                   0                        2  \n",
       "1349                   0                        3  \n",
       "1350                   0                        1  \n",
       "1351                   0                        4  \n",
       "...                  ...                      ...  \n",
       "1487                   1                        3  \n",
       "1488                   1                        6  \n",
       "1489                   1                        3  \n",
       "1490                   1                        4  \n",
       "1492                   0                        5  \n",
       "\n",
       "[140 rows x 46 columns]"
      ]
     },
     "execution_count": 29,
     "metadata": {},
     "output_type": "execute_result"
    }
   ],
   "source": [
    "clean_rental[clean_rental['Check-In Date'].isna()]"
   ]
  },
  {
   "cell_type": "code",
   "execution_count": 30,
   "metadata": {
    "ExecuteTime": {
     "end_time": "2022-01-11T17:52:43.745865Z",
     "start_time": "2022-01-11T17:52:43.740221Z"
    }
   },
   "outputs": [
    {
     "name": "stderr",
     "output_type": "stream",
     "text": [
      "<ipython-input-30-ea96da281b05>:1: FutureWarning: Treating datetime data as categorical rather than numeric in `.describe` is deprecated and will be removed in a future version of pandas. Specify `datetime_is_numeric=True` to silence this warning and adopt the future behavior now.\n",
      "  clean_rental['Check-In Date'].describe()\n"
     ]
    },
    {
     "data": {
      "text/plain": [
       "count                    1349\n",
       "unique                     35\n",
       "top       2019-07-07 00:00:00\n",
       "freq                      103\n",
       "first     2019-06-06 00:00:00\n",
       "last      2019-07-22 00:00:00\n",
       "Name: Check-In Date, dtype: object"
      ]
     },
     "execution_count": 30,
     "metadata": {},
     "output_type": "execute_result"
    }
   ],
   "source": [
    "clean_rental['Check-In Date'].describe()"
   ]
  },
  {
   "cell_type": "code",
   "execution_count": 31,
   "metadata": {
    "ExecuteTime": {
     "end_time": "2022-01-11T17:52:43.971484Z",
     "start_time": "2022-01-11T17:52:43.747127Z"
    }
   },
   "outputs": [
    {
     "data": {
      "image/png": "[encoded data removed]",
      "text/plain": [
       "<Figure size 432x288 with 1 Axes>"
      ]
     },
     "metadata": {},
     "output_type": "display_data"
    }
   ],
   "source": [
    "clean_rental['Check-In Date'].value_counts().sort_index().plot(color='darkblue')\n",
    "plt.title('Number of Cars Checked In Each Day, 6/6-7/22')\n",
    "plt.grid(False);"
   ]
  },
  {
   "cell_type": "markdown",
   "metadata": {},
   "source": [
    "This has a similar distribution to the checked out column. I will add a column to describe the length of the rental period."
   ]
  },
  {
   "cell_type": "code",
   "execution_count": 32,
   "metadata": {
    "ExecuteTime": {
     "end_time": "2022-01-11T17:52:44.221178Z",
     "start_time": "2022-01-11T17:52:43.973659Z"
    }
   },
   "outputs": [
    {
     "data": {
      "image/png": "[encoded data removed]",
      "text/plain": [
       "<Figure size 432x288 with 1 Axes>"
      ]
     },
     "metadata": {},
     "output_type": "display_data"
    }
   ],
   "source": [
    "clean_rental['Rental Duration (days)'] = (\n",
    "    clean_rental['Check-In Date'] - clean_rental['Check-Out Day']\n",
    ").dt.days\n",
    "clean_rental['Rental Duration (days)'].value_counts().sort_index().plot(\n",
    "    kind='bar',\n",
    "    color='darkblue'\n",
    ")\n",
    "plt.title('Distribution of Rental Duration')\n",
    "plt.xlabel('Number of days')\n",
    "plt.grid(False);"
   ]
  },
  {
   "cell_type": "markdown",
   "metadata": {},
   "source": [
    "The distribution of rentals is right-skewed, where the majority of customers rent for 7 or fewer days with a few renting for longer periods. Of note, there are some rentals that were for less than 24 hours."
   ]
  },
  {
   "cell_type": "code",
   "execution_count": 33,
   "metadata": {
    "ExecuteTime": {
     "end_time": "2022-01-11T17:52:44.341081Z",
     "start_time": "2022-01-11T17:52:44.223444Z"
    },
    "scrolled": true
   },
   "outputs": [
    {
     "data": {
      "image/png": "[encoded data removed]",
      "text/plain": [
       "<Figure size 432x288 with 1 Axes>"
      ]
     },
     "metadata": {},
     "output_type": "display_data"
    }
   ],
   "source": [
    "clean_rental['Day of Week Checked In'] = (\n",
    "    clean_rental['Check-In Date'].dt.dayofweek\n",
    ")\n",
    "clean_rental['Day of Week Checked In'].value_counts().sort_index().plot(\n",
    "    kind='bar',\n",
    "    color='lightblue'\n",
    ")\n",
    "plt.title('Number of Cars Checked In by Day of Week')\n",
    "plt.xlabel('Day of week')\n",
    "plt.ylabel('Number of cars')\n",
    "plt.grid(False);"
   ]
  },
  {
   "cell_type": "markdown",
   "metadata": {},
   "source": [
    "Sunday is the most popular day to turn in cars, which explains why the surveys completed are highest on Monday and Tuesday."
   ]
  },
  {
   "cell_type": "code",
   "execution_count": 34,
   "metadata": {
    "ExecuteTime": {
     "end_time": "2022-01-11T17:52:44.347226Z",
     "start_time": "2022-01-11T17:52:44.343221Z"
    }
   },
   "outputs": [
    {
     "data": {
      "text/plain": [
       "146"
      ]
     },
     "execution_count": 34,
     "metadata": {},
     "output_type": "execute_result"
    }
   ],
   "source": [
    "clean_rental['Check-In Time'].isna().sum()"
   ]
  },
  {
   "cell_type": "code",
   "execution_count": 35,
   "metadata": {
    "ExecuteTime": {
     "end_time": "2022-01-11T17:52:44.353412Z",
     "start_time": "2022-01-11T17:52:44.348697Z"
    }
   },
   "outputs": [
    {
     "data": {
      "text/plain": [
       "647"
      ]
     },
     "execution_count": 35,
     "metadata": {},
     "output_type": "execute_result"
    }
   ],
   "source": [
    "clean_rental['Check-In Time'].str.contains('PM').sum()"
   ]
  },
  {
   "cell_type": "code",
   "execution_count": 36,
   "metadata": {
    "ExecuteTime": {
     "end_time": "2022-01-11T17:52:44.358423Z",
     "start_time": "2022-01-11T17:52:44.354603Z"
    }
   },
   "outputs": [
    {
     "data": {
      "text/plain": [
       "696"
      ]
     },
     "execution_count": 36,
     "metadata": {},
     "output_type": "execute_result"
    }
   ],
   "source": [
    "clean_rental['Check-In Time'].str.contains('AM').sum()"
   ]
  },
  {
   "cell_type": "code",
   "execution_count": 37,
   "metadata": {
    "ExecuteTime": {
     "end_time": "2022-01-11T17:52:44.382335Z",
     "start_time": "2022-01-11T17:52:44.359820Z"
    }
   },
   "outputs": [
    {
     "data": {
      "text/html": [
       "<div>\n",
       "<style scoped>\n",
       "    .dataframe tbody tr th:only-of-type {\n",
       "        vertical-align: middle;\n",
       "    }\n",
       "\n",
       "    .dataframe tbody tr th {\n",
       "        vertical-align: top;\n",
       "    }\n",
       "\n",
       "    .dataframe thead th {\n",
       "        text-align: right;\n",
       "    }\n",
       "</style>\n",
       "<table border=\"1\" class=\"dataframe\">\n",
       "  <thead>\n",
       "    <tr style=\"text-align: right;\">\n",
       "      <th></th>\n",
       "      <th>RA Number</th>\n",
       "      <th>Date of Survey</th>\n",
       "      <th>Check-Out Day</th>\n",
       "      <th>Original Customer Tier Code</th>\n",
       "      <th>#1 Club Number</th>\n",
       "      <th>Contract</th>\n",
       "      <th>NPS Score</th>\n",
       "      <th>Recommend</th>\n",
       "      <th>Recommend Comment</th>\n",
       "      <th>Overall Satisfaction with Vehicle</th>\n",
       "      <th>...</th>\n",
       "      <th>Vehicle Model Description</th>\n",
       "      <th>Check-In Date</th>\n",
       "      <th>Check-In Time</th>\n",
       "      <th>Member?</th>\n",
       "      <th>Checkout Mileage</th>\n",
       "      <th>Receipt Survey Type</th>\n",
       "      <th>Survey Day of Week</th>\n",
       "      <th>Day of Week Checked Out</th>\n",
       "      <th>Rental Duration (days)</th>\n",
       "      <th>Day of Week Checked In</th>\n",
       "    </tr>\n",
       "  </thead>\n",
       "  <tbody>\n",
       "    <tr>\n",
       "      <th>280</th>\n",
       "      <td>832058334</td>\n",
       "      <td>2019-07-04</td>\n",
       "      <td>2019-07-03</td>\n",
       "      <td>5 Star Gold</td>\n",
       "      <td>63668516.0</td>\n",
       "      <td>26317.0</td>\n",
       "      <td>100.0</td>\n",
       "      <td>10.0</td>\n",
       "      <td>NaN</td>\n",
       "      <td>10.0</td>\n",
       "      <td>...</td>\n",
       "      <td>NaN</td>\n",
       "      <td>2019-07-04</td>\n",
       "      <td>NaN</td>\n",
       "      <td>Yes</td>\n",
       "      <td>NaN</td>\n",
       "      <td>E-Receipt</td>\n",
       "      <td>3</td>\n",
       "      <td>2</td>\n",
       "      <td>1.0</td>\n",
       "      <td>3.0</td>\n",
       "    </tr>\n",
       "    <tr>\n",
       "      <th>1383</th>\n",
       "      <td>837603034</td>\n",
       "      <td>2019-07-22</td>\n",
       "      <td>2019-07-11</td>\n",
       "      <td>5 Star Gold</td>\n",
       "      <td>36195861.0</td>\n",
       "      <td>38020.0</td>\n",
       "      <td>-100.0</td>\n",
       "      <td>5.0</td>\n",
       "      <td>I asked the Tucson Hertz counter employee to s...</td>\n",
       "      <td>7.0</td>\n",
       "      <td>...</td>\n",
       "      <td>NaN</td>\n",
       "      <td>2019-07-11</td>\n",
       "      <td>NaN</td>\n",
       "      <td>Yes</td>\n",
       "      <td>NaN</td>\n",
       "      <td>E-Receipt</td>\n",
       "      <td>0</td>\n",
       "      <td>3</td>\n",
       "      <td>0.0</td>\n",
       "      <td>3.0</td>\n",
       "    </tr>\n",
       "    <tr>\n",
       "      <th>1401</th>\n",
       "      <td>914133905</td>\n",
       "      <td>2019-07-22</td>\n",
       "      <td>2019-07-18</td>\n",
       "      <td>Regular Gold</td>\n",
       "      <td>98757294.0</td>\n",
       "      <td>88881.0</td>\n",
       "      <td>100.0</td>\n",
       "      <td>10.0</td>\n",
       "      <td>NaN</td>\n",
       "      <td>8.0</td>\n",
       "      <td>...</td>\n",
       "      <td>NaN</td>\n",
       "      <td>2019-07-22</td>\n",
       "      <td>NaN</td>\n",
       "      <td>Yes</td>\n",
       "      <td>NaN</td>\n",
       "      <td>E-Receipt</td>\n",
       "      <td>0</td>\n",
       "      <td>3</td>\n",
       "      <td>4.0</td>\n",
       "      <td>0.0</td>\n",
       "    </tr>\n",
       "    <tr>\n",
       "      <th>1422</th>\n",
       "      <td>913052022</td>\n",
       "      <td>2019-07-22</td>\n",
       "      <td>2019-07-17</td>\n",
       "      <td>Regular Gold</td>\n",
       "      <td>60552160.0</td>\n",
       "      <td>26317.0</td>\n",
       "      <td>100.0</td>\n",
       "      <td>9.0</td>\n",
       "      <td>Everything went well, but I did not like the M...</td>\n",
       "      <td>6.0</td>\n",
       "      <td>...</td>\n",
       "      <td>NaN</td>\n",
       "      <td>2019-07-22</td>\n",
       "      <td>NaN</td>\n",
       "      <td>Yes</td>\n",
       "      <td>NaN</td>\n",
       "      <td>E-Receipt</td>\n",
       "      <td>0</td>\n",
       "      <td>2</td>\n",
       "      <td>5.0</td>\n",
       "      <td>0.0</td>\n",
       "    </tr>\n",
       "    <tr>\n",
       "      <th>1428</th>\n",
       "      <td>819931335</td>\n",
       "      <td>2019-07-22</td>\n",
       "      <td>2019-06-29</td>\n",
       "      <td>Regular Gold</td>\n",
       "      <td>99273272.0</td>\n",
       "      <td>305875.0</td>\n",
       "      <td>100.0</td>\n",
       "      <td>10.0</td>\n",
       "      <td>Everything was so nice and easy . I got a luxu...</td>\n",
       "      <td>10.0</td>\n",
       "      <td>...</td>\n",
       "      <td>NaN</td>\n",
       "      <td>2019-07-17</td>\n",
       "      <td>NaN</td>\n",
       "      <td>Yes</td>\n",
       "      <td>NaN</td>\n",
       "      <td>E-Receipt</td>\n",
       "      <td>0</td>\n",
       "      <td>5</td>\n",
       "      <td>18.0</td>\n",
       "      <td>2.0</td>\n",
       "    </tr>\n",
       "    <tr>\n",
       "      <th>1442</th>\n",
       "      <td>914969285</td>\n",
       "      <td>2019-07-22</td>\n",
       "      <td>2019-07-19</td>\n",
       "      <td>5 Star Gold</td>\n",
       "      <td>40292476.0</td>\n",
       "      <td>469335.0</td>\n",
       "      <td>-100.0</td>\n",
       "      <td>0.0</td>\n",
       "      <td>I have been a five star member or gold member ...</td>\n",
       "      <td>3.0</td>\n",
       "      <td>...</td>\n",
       "      <td>NaN</td>\n",
       "      <td>2019-07-22</td>\n",
       "      <td>NaN</td>\n",
       "      <td>Yes</td>\n",
       "      <td>NaN</td>\n",
       "      <td>E-Receipt</td>\n",
       "      <td>0</td>\n",
       "      <td>4</td>\n",
       "      <td>3.0</td>\n",
       "      <td>0.0</td>\n",
       "    </tr>\n",
       "  </tbody>\n",
       "</table>\n",
       "<p>6 rows × 48 columns</p>\n",
       "</div>"
      ],
      "text/plain": [
       "      RA Number Date of Survey Check-Out Day Original Customer Tier Code  \\\n",
       "280   832058334     2019-07-04    2019-07-03                 5 Star Gold   \n",
       "1383  837603034     2019-07-22    2019-07-11                 5 Star Gold   \n",
       "1401  914133905     2019-07-22    2019-07-18                Regular Gold   \n",
       "1422  913052022     2019-07-22    2019-07-17                Regular Gold   \n",
       "1428  819931335     2019-07-22    2019-06-29                Regular Gold   \n",
       "1442  914969285     2019-07-22    2019-07-19                 5 Star Gold   \n",
       "\n",
       "      #1 Club Number  Contract  NPS Score  Recommend  \\\n",
       "280       63668516.0   26317.0      100.0       10.0   \n",
       "1383      36195861.0   38020.0     -100.0        5.0   \n",
       "1401      98757294.0   88881.0      100.0       10.0   \n",
       "1422      60552160.0   26317.0      100.0        9.0   \n",
       "1428      99273272.0  305875.0      100.0       10.0   \n",
       "1442      40292476.0  469335.0     -100.0        0.0   \n",
       "\n",
       "                                      Recommend Comment  \\\n",
       "280                                                 NaN   \n",
       "1383  I asked the Tucson Hertz counter employee to s...   \n",
       "1401                                                NaN   \n",
       "1422  Everything went well, but I did not like the M...   \n",
       "1428  Everything was so nice and easy . I got a luxu...   \n",
       "1442  I have been a five star member or gold member ...   \n",
       "\n",
       "      Overall Satisfaction with Vehicle  ...  Vehicle Model Description  \\\n",
       "280                                10.0  ...                        NaN   \n",
       "1383                                7.0  ...                        NaN   \n",
       "1401                                8.0  ...                        NaN   \n",
       "1422                                6.0  ...                        NaN   \n",
       "1428                               10.0  ...                        NaN   \n",
       "1442                                3.0  ...                        NaN   \n",
       "\n",
       "      Check-In Date  Check-In Time  Member?  Checkout Mileage  \\\n",
       "280      2019-07-04            NaN      Yes               NaN   \n",
       "1383     2019-07-11            NaN      Yes               NaN   \n",
       "1401     2019-07-22            NaN      Yes               NaN   \n",
       "1422     2019-07-22            NaN      Yes               NaN   \n",
       "1428     2019-07-17            NaN      Yes               NaN   \n",
       "1442     2019-07-22            NaN      Yes               NaN   \n",
       "\n",
       "      Receipt Survey Type  Survey Day of Week  Day of Week Checked Out  \\\n",
       "280             E-Receipt                   3                        2   \n",
       "1383            E-Receipt                   0                        3   \n",
       "1401            E-Receipt                   0                        3   \n",
       "1422            E-Receipt                   0                        2   \n",
       "1428            E-Receipt                   0                        5   \n",
       "1442            E-Receipt                   0                        4   \n",
       "\n",
       "      Rental Duration (days)  Day of Week Checked In  \n",
       "280                      1.0                     3.0  \n",
       "1383                     0.0                     3.0  \n",
       "1401                     4.0                     0.0  \n",
       "1422                     5.0                     0.0  \n",
       "1428                    18.0                     2.0  \n",
       "1442                     3.0                     0.0  \n",
       "\n",
       "[6 rows x 48 columns]"
      ]
     },
     "execution_count": 37,
     "metadata": {},
     "output_type": "execute_result"
    }
   ],
   "source": [
    "clean_rental[(clean_rental['Check-In Time'].isna() & (clean_rental['Check-In Date'].notna()))]"
   ]
  },
  {
   "cell_type": "markdown",
   "metadata": {},
   "source": [
    "For the same reasons as before, I will remove this column."
   ]
  },
  {
   "cell_type": "code",
   "execution_count": 38,
   "metadata": {
    "ExecuteTime": {
     "end_time": "2022-01-11T17:52:44.387632Z",
     "start_time": "2022-01-11T17:52:44.384296Z"
    }
   },
   "outputs": [],
   "source": [
    "clean_rental.drop('Check-In Time', axis=1, inplace=True)"
   ]
  },
  {
   "cell_type": "markdown",
   "metadata": {},
   "source": [
    "## Customer Tier Code"
   ]
  },
  {
   "cell_type": "code",
   "execution_count": 39,
   "metadata": {
    "ExecuteTime": {
     "end_time": "2022-01-11T17:52:44.393353Z",
     "start_time": "2022-01-11T17:52:44.389288Z"
    },
    "scrolled": false
   },
   "outputs": [
    {
     "data": {
      "text/plain": [
       "Regular Gold         796\n",
       "5 Star Gold          257\n",
       "Non-Member           214\n",
       "Presidents Circle    170\n",
       "#1 Club Member        32\n",
       "Platinum              20\n",
       "Name: Original Customer Tier Code, dtype: int64"
      ]
     },
     "execution_count": 39,
     "metadata": {},
     "output_type": "execute_result"
    }
   ],
   "source": [
    "clean_rental['Original Customer Tier Code'].value_counts()"
   ]
  },
  {
   "cell_type": "markdown",
   "metadata": {},
   "source": [
    "The majority of the customers have some sort of membership with Hertz. Information about membership levels: https://upgradedpoints.com/travel/car-rentals/hertz-gold-plus-rewards/"
   ]
  },
  {
   "cell_type": "code",
   "execution_count": 177,
   "metadata": {
    "ExecuteTime": {
     "end_time": "2022-01-11T18:36:36.335517Z",
     "start_time": "2022-01-11T18:36:36.097764Z"
    }
   },
   "outputs": [
    {
     "data": {
      "image/png": "[encoded data removed]",
      "text/plain": [
       "<Figure size 720x576 with 1 Axes>"
      ]
     },
     "metadata": {},
     "output_type": "display_data"
    }
   ],
   "source": [
    "nps_by_tier = clean_rental.groupby('Original Customer Tier Code').agg(\n",
    "        {\n",
    "            'NPS Score': 'mean', \n",
    "            'Survey ID':'count'\n",
    "        }\n",
    "    ).sort_values('NPS Score')\n",
    "\n",
    "fig, ax = plt.subplots(figsize = (10,8))\n",
    "sns.barplot(\n",
    "    x=nps_by_tier['NPS Score'].values,\n",
    "    y=nps_by_tier.index,\n",
    "    color='darkblue'\n",
    ")\n",
    "plt.grid(False)\n",
    "plt.title('Avg NPS Score by Membership Tier', fontsize='x-large', fontweight='bold')\n",
    "plt.xlabel('Avg NPS');"
   ]
  },
  {
   "cell_type": "markdown",
   "metadata": {},
   "source": [
    "## Club Number"
   ]
  },
  {
   "cell_type": "code",
   "execution_count": 40,
   "metadata": {
    "ExecuteTime": {
     "end_time": "2022-01-11T17:52:44.399478Z",
     "start_time": "2022-01-11T17:52:44.394725Z"
    }
   },
   "outputs": [
    {
     "data": {
      "text/plain": [
       "0.0           212\n",
       "59233075.0      2\n",
       "58305282.0      2\n",
       "98757294.0      2\n",
       "69987208.0      2\n",
       "             ... \n",
       "59333609.0      1\n",
       "54743436.0      1\n",
       "63056940.0      1\n",
       "99525676.0      1\n",
       "68810353.0      1\n",
       "Name: #1 Club Number, Length: 1274, dtype: int64"
      ]
     },
     "execution_count": 40,
     "metadata": {},
     "output_type": "execute_result"
    }
   ],
   "source": [
    "clean_rental['#1 Club Number'].value_counts()"
   ]
  },
  {
   "cell_type": "code",
   "execution_count": 41,
   "metadata": {
    "ExecuteTime": {
     "end_time": "2022-01-11T17:52:44.403931Z",
     "start_time": "2022-01-11T17:52:44.400951Z"
    }
   },
   "outputs": [
    {
     "data": {
      "text/plain": [
       "0"
      ]
     },
     "execution_count": 41,
     "metadata": {},
     "output_type": "execute_result"
    }
   ],
   "source": [
    "clean_rental['#1 Club Number'].isna().sum()"
   ]
  },
  {
   "cell_type": "code",
   "execution_count": 42,
   "metadata": {
    "ExecuteTime": {
     "end_time": "2022-01-11T17:52:44.409900Z",
     "start_time": "2022-01-11T17:52:44.405112Z"
    }
   },
   "outputs": [
    {
     "data": {
      "text/plain": [
       "Float64Index([59233075.0, 58305282.0, 98757294.0, 69987208.0], dtype='float64')"
      ]
     },
     "execution_count": 42,
     "metadata": {},
     "output_type": "execute_result"
    }
   ],
   "source": [
    "freq = clean_rental['#1 Club Number'].value_counts() == 2\n",
    "freq = freq[freq==True]\n",
    "freq.index"
   ]
  },
  {
   "cell_type": "markdown",
   "metadata": {},
   "source": [
    "It appears that this is a general membership number and that 0.0 is used for non-members (with 2 non-members having a membership code entered). There are four members who rented twice during the reported period. If this data were from a longer time period, customer frequency would certainly be an important factor. However, with this brief period and only four customers renting twice, I am not going to consider that factor here. Since club number provides no additional information apart from number of rentals, I will drop the column."
   ]
  },
  {
   "cell_type": "code",
   "execution_count": 43,
   "metadata": {
    "ExecuteTime": {
     "end_time": "2022-01-11T17:52:44.414187Z",
     "start_time": "2022-01-11T17:52:44.411098Z"
    }
   },
   "outputs": [],
   "source": [
    "clean_rental.drop('#1 Club Number', axis=1, inplace=True)"
   ]
  },
  {
   "cell_type": "markdown",
   "metadata": {},
   "source": [
    "## Contract"
   ]
  },
  {
   "cell_type": "code",
   "execution_count": 44,
   "metadata": {
    "ExecuteTime": {
     "end_time": "2022-01-11T17:52:44.421751Z",
     "start_time": "2022-01-11T17:52:44.415563Z"
    },
    "scrolled": true
   },
   "outputs": [
    {
     "data": {
      "text/plain": [
       "count      1479.000000\n",
       "mean     163404.052062\n",
       "std      149755.873502\n",
       "min           0.000000\n",
       "25%       26317.000000\n",
       "50%      160528.000000\n",
       "75%      297357.000000\n",
       "max      824824.000000\n",
       "Name: Contract, dtype: float64"
      ]
     },
     "execution_count": 44,
     "metadata": {},
     "output_type": "execute_result"
    }
   ],
   "source": [
    "clean_rental['Contract'].describe()"
   ]
  },
  {
   "cell_type": "code",
   "execution_count": 45,
   "metadata": {
    "ExecuteTime": {
     "end_time": "2022-01-11T17:52:44.426256Z",
     "start_time": "2022-01-11T17:52:44.423229Z"
    }
   },
   "outputs": [
    {
     "data": {
      "text/plain": [
       "293"
      ]
     },
     "execution_count": 45,
     "metadata": {},
     "output_type": "execute_result"
    }
   ],
   "source": [
    "clean_rental['Contract'].nunique()"
   ]
  },
  {
   "cell_type": "markdown",
   "metadata": {},
   "source": [
    "With a minimum of 0 a maximum of over 800,000 and 293 unique values, I am unsure what this column is referencing. Therefore, I will remove it."
   ]
  },
  {
   "cell_type": "code",
   "execution_count": 46,
   "metadata": {
    "ExecuteTime": {
     "end_time": "2022-01-11T17:52:44.430468Z",
     "start_time": "2022-01-11T17:52:44.427483Z"
    }
   },
   "outputs": [],
   "source": [
    "clean_rental.drop('Contract', axis=1, inplace=True)"
   ]
  },
  {
   "cell_type": "markdown",
   "metadata": {},
   "source": [
    "## Net Promoter Score"
   ]
  },
  {
   "cell_type": "code",
   "execution_count": 47,
   "metadata": {
    "ExecuteTime": {
     "end_time": "2022-01-11T17:52:44.436635Z",
     "start_time": "2022-01-11T17:52:44.431777Z"
    },
    "scrolled": false
   },
   "outputs": [
    {
     "data": {
      "text/plain": [
       " 100.0    932\n",
       "-100.0    295\n",
       " 0.0      262\n",
       "Name: NPS Score, dtype: int64"
      ]
     },
     "execution_count": 47,
     "metadata": {},
     "output_type": "execute_result"
    }
   ],
   "source": [
    "clean_rental['NPS Score'].value_counts()"
   ]
  },
  {
   "cell_type": "code",
   "execution_count": 155,
   "metadata": {
    "ExecuteTime": {
     "end_time": "2022-01-11T18:19:34.330140Z",
     "start_time": "2022-01-11T18:19:34.211077Z"
    }
   },
   "outputs": [
    {
     "data": {
      "image/png": "[encoded data removed]",
      "text/plain": [
       "<Figure size 576x432 with 1 Axes>"
      ]
     },
     "metadata": {},
     "output_type": "display_data"
    }
   ],
   "source": [
    "fig, ax = plt.subplots(figsize=(8,6))\n",
    "clean_rental['NPS Score'].value_counts(normalize=True).plot(\n",
    "    kind='bar', \n",
    "    color='darkblue'\n",
    ")\n",
    "ax.set_xticklabels(\n",
    "    ['promoter', 'detractor', 'neutral'], \n",
    "    rotation=45, \n",
    "    fontweight='bold'\n",
    ")\n",
    "plt.grid(False)\n",
    "plt.title('Percent Net Promoter Categories', fontsize='x-large', fontweight='bold')\n",
    "plt.xlabel('Category')\n",
    "plt.ylabel('Percent of total');"
   ]
  },
  {
   "cell_type": "code",
   "execution_count": 48,
   "metadata": {
    "ExecuteTime": {
     "end_time": "2022-01-11T17:52:44.441366Z",
     "start_time": "2022-01-11T17:52:44.438182Z"
    }
   },
   "outputs": [
    {
     "data": {
      "text/plain": [
       "0"
      ]
     },
     "execution_count": 48,
     "metadata": {},
     "output_type": "execute_result"
    }
   ],
   "source": [
    "clean_rental['NPS Score'].isna().sum()"
   ]
  },
  {
   "cell_type": "code",
   "execution_count": 49,
   "metadata": {
    "ExecuteTime": {
     "end_time": "2022-01-11T17:52:44.446948Z",
     "start_time": "2022-01-11T17:52:44.442569Z"
    }
   },
   "outputs": [
    {
     "data": {
      "text/plain": [
       "array([7., 8.])"
      ]
     },
     "execution_count": 49,
     "metadata": {},
     "output_type": "execute_result"
    }
   ],
   "source": [
    "clean_rental[clean_rental['NPS Score'] == 0]['Recommend'].unique()"
   ]
  },
  {
   "cell_type": "markdown",
   "metadata": {},
   "source": [
    "This appears to be the value assigned to the NPS. \n",
    "- 100 if recommend score 9 or 10\n",
    "- 0 if recommend score 7 or 8\n",
    "- -100 if recommend score <= 6"
   ]
  },
  {
   "cell_type": "code",
   "execution_count": 50,
   "metadata": {
    "ExecuteTime": {
     "end_time": "2022-01-11T17:52:44.454118Z",
     "start_time": "2022-01-11T17:52:44.449042Z"
    }
   },
   "outputs": [
    {
     "name": "stdout",
     "output_type": "stream",
     "text": [
      "The overall Net Promoter Score is 42.78%.\n"
     ]
    }
   ],
   "source": [
    "num_prom = clean_rental[clean_rental['NPS Score'] == 100].shape[0]\n",
    "num_detrac = clean_rental[clean_rental['NPS Score'] == -100].shape[0]\n",
    "total = clean_rental['NPS Score'].shape[0]\n",
    "\n",
    "overall_nps = num_prom/total - num_detrac/total\n",
    "print(f'The overall Net Promoter Score is {round(overall_nps,4)*100}%.')"
   ]
  },
  {
   "cell_type": "markdown",
   "metadata": {},
   "source": [
    "Ideally, data would be available over a longer period of time, so that the overall NPS could be monitored for changes over time. I will quickly check to see if there seems to be any variation based on date with the available data."
   ]
  },
  {
   "cell_type": "code",
   "execution_count": 204,
   "metadata": {
    "ExecuteTime": {
     "end_time": "2022-01-11T19:07:20.139391Z",
     "start_time": "2022-01-11T19:07:17.499944Z"
    },
    "scrolled": false
   },
   "outputs": [
    {
     "data": {
      "image/png": "[encoded data removed]",
      "text/plain": [
       "<Figure size 864x432 with 1 Axes>"
      ]
     },
     "metadata": {},
     "output_type": "display_data"
    }
   ],
   "source": [
    "nps_by_day = pd.DataFrame(columns = ['NPS'])\n",
    "\n",
    "for date in clean_rental['Date of Survey'].values:\n",
    "    \n",
    "    num_prom = (\n",
    "        clean_rental[\n",
    "            (clean_rental['Date of Survey'] == date) & \n",
    "                (clean_rental['NPS Score'] == 100)]).shape[0]\n",
    "    \n",
    "    num_detrac = (\n",
    "        clean_rental[\n",
    "            (clean_rental['Date of Survey'] == date) & \n",
    "                (clean_rental['NPS Score'] == -100)]).shape[0]\n",
    "    \n",
    "    \n",
    "    total = clean_rental[clean_rental['Date of Survey'] == date].shape[0]\n",
    "    \n",
    "    nps_by_day.loc[date, 'NPS'] = round(num_prom/total - num_detrac/total,4)*100\n",
    "\n",
    "    \n",
    "nps_by_day['NPS'] = nps_by_day['NPS'].astype('float')\n",
    "\n",
    "nps_by_day.sort_index().plot(color='darkblue', figsize = (12,6))\n",
    "plt.axhline(overall_nps*100, color='orange', linestyle='--', label='avg NPS')\n",
    "plt.title('NPS by Day', fontsize='x-large',fontweight='bold')\n",
    "plt.xlabel('Day', fontweight='bold')\n",
    "plt.ylabel('NPS, in percent', fontweight='bold')\n",
    "plt.legend()\n",
    "plt.grid(False);"
   ]
  },
  {
   "cell_type": "code",
   "execution_count": 52,
   "metadata": {
    "ExecuteTime": {
     "end_time": "2022-01-11T17:52:46.945167Z",
     "start_time": "2022-01-11T17:52:46.936512Z"
    },
    "scrolled": true
   },
   "outputs": [
    {
     "data": {
      "text/html": [
       "<div>\n",
       "<style scoped>\n",
       "    .dataframe tbody tr th:only-of-type {\n",
       "        vertical-align: middle;\n",
       "    }\n",
       "\n",
       "    .dataframe tbody tr th {\n",
       "        vertical-align: top;\n",
       "    }\n",
       "\n",
       "    .dataframe thead th {\n",
       "        text-align: right;\n",
       "    }\n",
       "</style>\n",
       "<table border=\"1\" class=\"dataframe\">\n",
       "  <thead>\n",
       "    <tr style=\"text-align: right;\">\n",
       "      <th></th>\n",
       "      <th>NPS</th>\n",
       "    </tr>\n",
       "  </thead>\n",
       "  <tbody>\n",
       "    <tr>\n",
       "      <th>count</th>\n",
       "      <td>23.000000</td>\n",
       "    </tr>\n",
       "    <tr>\n",
       "      <th>mean</th>\n",
       "      <td>42.670000</td>\n",
       "    </tr>\n",
       "    <tr>\n",
       "      <th>std</th>\n",
       "      <td>12.591285</td>\n",
       "    </tr>\n",
       "    <tr>\n",
       "      <th>min</th>\n",
       "      <td>13.040000</td>\n",
       "    </tr>\n",
       "    <tr>\n",
       "      <th>25%</th>\n",
       "      <td>34.210000</td>\n",
       "    </tr>\n",
       "    <tr>\n",
       "      <th>50%</th>\n",
       "      <td>44.590000</td>\n",
       "    </tr>\n",
       "    <tr>\n",
       "      <th>75%</th>\n",
       "      <td>51.345000</td>\n",
       "    </tr>\n",
       "    <tr>\n",
       "      <th>max</th>\n",
       "      <td>63.270000</td>\n",
       "    </tr>\n",
       "  </tbody>\n",
       "</table>\n",
       "</div>"
      ],
      "text/plain": [
       "             NPS\n",
       "count  23.000000\n",
       "mean   42.670000\n",
       "std    12.591285\n",
       "min    13.040000\n",
       "25%    34.210000\n",
       "50%    44.590000\n",
       "75%    51.345000\n",
       "max    63.270000"
      ]
     },
     "execution_count": 52,
     "metadata": {},
     "output_type": "execute_result"
    }
   ],
   "source": [
    "nps_by_day.describe()"
   ]
  },
  {
   "cell_type": "code",
   "execution_count": 53,
   "metadata": {
    "ExecuteTime": {
     "end_time": "2022-01-11T17:52:46.950200Z",
     "start_time": "2022-01-11T17:52:46.946398Z"
    }
   },
   "outputs": [
    {
     "data": {
      "text/plain": [
       "37"
      ]
     },
     "execution_count": 53,
     "metadata": {},
     "output_type": "execute_result"
    }
   ],
   "source": [
    "clean_rental['Date of Survey'].value_counts().min()"
   ]
  },
  {
   "cell_type": "markdown",
   "metadata": {},
   "source": []
  },
  {
   "cell_type": "markdown",
   "metadata": {},
   "source": [
    "There certainly is come variability in the NPS over the 23-day period. Next, I will use bootstrapping to simulate the NPS scores for 10,000 days to see if this amount of variability is to be expected. "
   ]
  },
  {
   "cell_type": "code",
   "execution_count": 54,
   "metadata": {
    "ExecuteTime": {
     "end_time": "2022-01-11T17:52:47.348408Z",
     "start_time": "2022-01-11T17:52:46.951552Z"
    }
   },
   "outputs": [],
   "source": [
    "np.random.seed(SEED)\n",
    "\n",
    "num_surveys = int(clean_rental['Date of Survey'].value_counts().mean())\n",
    "\n",
    "sim_nps = []\n",
    "\n",
    "for i in range(10_000):\n",
    "    scores = np.random.choice(clean_rental['NPS Score'].values, num_surveys)\n",
    "    p = (scores == 100).sum()\n",
    "    d = (scores == -100).sum()\n",
    "    t = num_surveys\n",
    "    nps = round(p/t - d/t,4)*100\n",
    "    sim_nps.append(nps)\n",
    "    "
   ]
  },
  {
   "cell_type": "code",
   "execution_count": 205,
   "metadata": {
    "ExecuteTime": {
     "end_time": "2022-01-11T19:13:47.795806Z",
     "start_time": "2022-01-11T19:13:47.502854Z"
    }
   },
   "outputs": [
    {
     "data": {
      "image/png": "[encoded data removed]",
      "text/plain": [
       "<Figure size 360x360 with 1 Axes>"
      ]
     },
     "metadata": {},
     "output_type": "display_data"
    }
   ],
   "source": [
    "sns.displot(sim_nps, color='darkblue')\n",
    "plt.title('Simulated Daily NPR Scores', fontweight='bold')\n",
    "plt.grid(False);"
   ]
  },
  {
   "cell_type": "code",
   "execution_count": 56,
   "metadata": {
    "ExecuteTime": {
     "end_time": "2022-01-11T17:52:47.639154Z",
     "start_time": "2022-01-11T17:52:47.634018Z"
    }
   },
   "outputs": [
    {
     "name": "stdout",
     "output_type": "stream",
     "text": [
      "We are 95% confident that the true NPS mean lies between 42.55 and 42.95.\n"
     ]
    }
   ],
   "source": [
    "ci_95 = stats.norm.interval(\n",
    "    alpha = 0.95, \n",
    "    loc=np.mean(sim_nps), \n",
    "    scale=stats.sem(sim_nps)\n",
    ")\n",
    "\n",
    "print(f'We are 95% confident that the true NPS mean lies between {ci_95[0]:.2f} and {ci_95[1]:.2f}.')\n"
   ]
  },
  {
   "cell_type": "markdown",
   "metadata": {},
   "source": [
    "The overall NPS from the 23 days of recorded survey data had a mean score of 42.78, which is within the 95% confidence interval."
   ]
  },
  {
   "cell_type": "code",
   "execution_count": 57,
   "metadata": {
    "ExecuteTime": {
     "end_time": "2022-01-11T17:52:47.650414Z",
     "start_time": "2022-01-11T17:52:47.641254Z"
    }
   },
   "outputs": [
    {
     "name": "stdout",
     "output_type": "stream",
     "text": [
      "68% of the daily NPS values lie between 32.76 and 52.74.\n",
      "95% of the daily NPS values lie between 22.78 and 62.72.\n",
      "99.7% of the daily NPS values lie between 12.79 and 72.71.\n"
     ]
    }
   ],
   "source": [
    "st_dev = np.std(sim_nps)\n",
    "print(f'68% of the daily NPS values lie between {np.mean(sim_nps) - st_dev:.2f} and {np.mean(sim_nps) + st_dev:.2f}.')\n",
    "print(f'95% of the daily NPS values lie between {np.mean(sim_nps) - 2*st_dev:.2f} and {np.mean(sim_nps) + 2*st_dev:.2f}.')\n",
    "print(f'99.7% of the daily NPS values lie between {np.mean(sim_nps) - 3*st_dev:.2f} and {np.mean(sim_nps) + 3*st_dev:.2f}.')"
   ]
  },
  {
   "cell_type": "markdown",
   "metadata": {
    "ExecuteTime": {
     "end_time": "2022-01-10T20:44:47.413352Z",
     "start_time": "2022-01-10T20:44:47.304428Z"
    }
   },
   "source": [
    "This shows that while the recorded data held some relatively low (13) and high (63) values, they are still within 3 standard deviations of the mean and are not extreme scores.\n",
    "\n",
    "Before moving on, I will check to see if the daily NPS seems to correlate with the number of surveys completed in a day."
   ]
  },
  {
   "cell_type": "code",
   "execution_count": 58,
   "metadata": {
    "ExecuteTime": {
     "end_time": "2022-01-11T17:52:48.007040Z",
     "start_time": "2022-01-11T17:52:47.651709Z"
    }
   },
   "outputs": [
    {
     "data": {
      "image/png": "[encoded data removed]",
      "text/plain": [
       "<Figure size 720x576 with 1 Axes>"
      ]
     },
     "metadata": {},
     "output_type": "display_data"
    }
   ],
   "source": [
    "plt.subplots(figsize=(10,8))\n",
    "sns.barplot(\n",
    "    x=clean_rental['Date of Survey'].value_counts().sort_index().index.day,\n",
    "    y=clean_rental['Date of Survey'].value_counts().sort_index().values,\n",
    "    color='lightblue'\n",
    ")\n",
    "sns.lineplot(\n",
    "    x=nps_by_day.sort_index().index.day - 1, \n",
    "    y=nps_by_day.sort_index()['NPS'].values,\n",
    "    label = 'NPS',\n",
    "    color='black')\n",
    "plt.legend()\n",
    "plt.xlabel('Day')\n",
    "plt.ylabel('Number of Surveys/ NPS')\n",
    "plt.title(\n",
    "    'Number of Surveys Returned and NPS by Day', \n",
    "    fontsize='x-large', \n",
    "    fontweight='bold'\n",
    ")\n",
    "plt.grid(False);"
   ]
  },
  {
   "cell_type": "markdown",
   "metadata": {},
   "source": [
    "There does not appear to be a correlation. Overall, the variation in the NPS is within what we would expect and the overall mean score is within the 95% confidence interval. Twenty-three days is too short of a period to capture any trends or seasonality in the scores.\n",
    "\n",
    "If NPS is going to be monitored as a KPI, it would need to be smoothed to account for the natural fluctuations in the data by looking at a 7-day (or longer) rolling average instead of the daily rate."
   ]
  },
  {
   "cell_type": "code",
   "execution_count": 207,
   "metadata": {
    "ExecuteTime": {
     "end_time": "2022-01-11T19:19:36.306652Z",
     "start_time": "2022-01-11T19:19:36.150817Z"
    },
    "scrolled": false
   },
   "outputs": [
    {
     "data": {
      "image/png": "[encoded data removed]",
      "text/plain": [
       "<Figure size 576x432 with 1 Axes>"
      ]
     },
     "metadata": {},
     "output_type": "display_data"
    }
   ],
   "source": [
    "clean_rental['Recommend'].value_counts().sort_index().plot(\n",
    "    kind='bar',\n",
    "    color='darkblue',\n",
    "    figsize=(8,6)\n",
    ")\n",
    "plt.title('Distribution of Rating Score', fontweight='bold')\n",
    "plt.xlabel('Rating')\n",
    "plt.ylabel('Count')\n",
    "plt.grid(False);"
   ]
  },
  {
   "cell_type": "markdown",
   "metadata": {},
   "source": [
    "The majority of the customers provide a rating score of 7 or higher, with 10 being the most common score. It may be worth looking to see what distinguishes the 7/8 customers from the 9/10 as well as investigating what factors contributed to a score of 0."
   ]
  },
  {
   "cell_type": "markdown",
   "metadata": {},
   "source": [
    "## Recommend Comment"
   ]
  },
  {
   "cell_type": "code",
   "execution_count": 60,
   "metadata": {
    "ExecuteTime": {
     "end_time": "2022-01-11T17:52:48.155216Z",
     "start_time": "2022-01-11T17:52:48.150346Z"
    },
    "scrolled": false
   },
   "outputs": [
    {
     "data": {
      "text/plain": [
       "NPS Score\n",
       "-100.0    282\n",
       " 0.0      194\n",
       " 100.0    600\n",
       "Name: Recommend Comment, dtype: int64"
      ]
     },
     "execution_count": 60,
     "metadata": {},
     "output_type": "execute_result"
    }
   ],
   "source": [
    "clean_rental.groupby('NPS Score')['Recommend Comment'].count()"
   ]
  },
  {
   "cell_type": "markdown",
   "metadata": {},
   "source": [
    "Promoters left more comments than neutral or detractor customers. "
   ]
  },
  {
   "cell_type": "code",
   "execution_count": 61,
   "metadata": {
    "ExecuteTime": {
     "end_time": "2022-01-11T17:52:48.161218Z",
     "start_time": "2022-01-11T17:52:48.156892Z"
    }
   },
   "outputs": [],
   "source": [
    "stop_words = set(stopwords.words('english'))\n",
    "tokenizer = RegexpTokenizer(r'\\w+')\n",
    "\n",
    "def clean_text(text):\n",
    "    \"\"\"Removes punctuation and stopwords and returns a tokenized list of the\n",
    "    words.\"\"\"\n",
    "    \n",
    "    test_no_punc = tokenizer.tokenize(text)\n",
    "    return [w.lower() for w in test_no_punc if w.lower() not in stop_words]\n"
   ]
  },
  {
   "cell_type": "code",
   "execution_count": 62,
   "metadata": {
    "ExecuteTime": {
     "end_time": "2022-01-11T17:52:48.183092Z",
     "start_time": "2022-01-11T17:52:48.162391Z"
    }
   },
   "outputs": [],
   "source": [
    "clean_rental['Recommend Comment Tokenized'] = (\n",
    "    clean_rental\n",
    "             [clean_rental['Recommend Comment'].notna()\n",
    "             ]['Recommend Comment']\n",
    "             .apply(clean_text)\n",
    "             )"
   ]
  },
  {
   "cell_type": "code",
   "execution_count": 63,
   "metadata": {
    "ExecuteTime": {
     "end_time": "2022-01-11T17:52:48.194130Z",
     "start_time": "2022-01-11T17:52:48.185102Z"
    }
   },
   "outputs": [
    {
     "data": {
      "text/plain": [
       "6                                      [often, recommend]\n",
       "9       [fees, taxes, accurately, calculated, time, bo...\n",
       "12      [price, good, renting, easy, whole, thing, con...\n",
       "13      [snelle, afhandeling, mogelijkheid, om, zelf, ...\n",
       "15      [agent, fixed, problems, reservation, satisfac...\n",
       "                              ...                        \n",
       "1485    [accessible, site, customer, assistance, quest...\n",
       "1486    [staff, great, equipment, great, jaguar, mess,...\n",
       "1487                   [brand, new, car, prompt, service]\n",
       "1488    [please, contact, explain, live, customer, ser...\n",
       "1492    [difficult, book, online, phone, 5, different,...\n",
       "Name: Recommend Comment Tokenized, Length: 1076, dtype: object"
      ]
     },
     "execution_count": 63,
     "metadata": {},
     "output_type": "execute_result"
    }
   ],
   "source": [
    "clean_rental[clean_rental['Recommend Comment Tokenized'].notna()]['Recommend Comment Tokenized']"
   ]
  },
  {
   "cell_type": "code",
   "execution_count": 64,
   "metadata": {
    "ExecuteTime": {
     "end_time": "2022-01-11T17:52:48.206541Z",
     "start_time": "2022-01-11T17:52:48.195486Z"
    }
   },
   "outputs": [],
   "source": [
    "rec_comm_ind = (\n",
    "    clean_rental[clean_rental['Recommend Comment Tokenized'].notna()]\n",
    "    ['Recommend Comment Tokenized'].index\n",
    ")\n",
    "\n",
    "rec_comm_corpus = []\n",
    "\n",
    "for i in rec_comm_ind:\n",
    "    rec_comm_corpus.extend(clean_rental.loc[i,'Recommend Comment Tokenized'])"
   ]
  },
  {
   "cell_type": "code",
   "execution_count": 65,
   "metadata": {
    "ExecuteTime": {
     "end_time": "2022-01-11T17:52:48.459962Z",
     "start_time": "2022-01-11T17:52:48.207837Z"
    }
   },
   "outputs": [
    {
     "data": {
      "image/png": "[encoded data removed]",
      "text/plain": [
       "<Figure size 432x720 with 1 Axes>"
      ]
     },
     "metadata": {},
     "output_type": "display_data"
    }
   ],
   "source": [
    "rec_comm_freq_dict = nltk.FreqDist(rec_comm_corpus)\n",
    "rec_comm_freq_df = pd.DataFrame.from_dict(rec_comm_freq_dict, orient='index')\n",
    "rec_comm_freq_df = rec_comm_freq_df.sort_values(\n",
    "    0, \n",
    "    ascending=False\n",
    ").rename(columns = ({0:'freq'}))\n",
    "fig,ax = plt.subplots(figsize=(6, 10))\n",
    "sns.barplot(\n",
    "    x=rec_comm_freq_df['freq'][:20].values, \n",
    "    y=rec_comm_freq_df[:20].index,\n",
    "    color='lightblue'\n",
    ")\n",
    "plt.title('Word Frequency in Recommendation Comments');"
   ]
  },
  {
   "cell_type": "markdown",
   "metadata": {},
   "source": [
    "Looking at the most frequent words, it may make sense to remove some of the words that are common but do not supply added information (ex. hertz, car and cars)."
   ]
  },
  {
   "cell_type": "code",
   "execution_count": 66,
   "metadata": {
    "ExecuteTime": {
     "end_time": "2022-01-11T17:52:48.474288Z",
     "start_time": "2022-01-11T17:52:48.461758Z"
    },
    "scrolled": true
   },
   "outputs": [
    {
     "data": {
      "text/plain": [
       "12      Price was good, renting was easy, and the whol...\n",
       "15      Agent fixed the problems with my reservation t...\n",
       "19      All the vehicles in our class were gone but th...\n",
       "20      The staff was courteous and very helpful. They...\n",
       "23      Super easy to book, and to modify when my flig...\n",
       "                              ...                        \n",
       "1470    Hertz at Phoenix has a nice selection of late ...\n",
       "1471    Jose the manager was extremely helpful. He was...\n",
       "1478                 Always very easy to do business with\n",
       "1481    The car was great, customer service was fast. ...\n",
       "1487                       Brand new car. Prompt service.\n",
       "Name: Recommend Comment, Length: 600, dtype: object"
      ]
     },
     "execution_count": 66,
     "metadata": {},
     "output_type": "execute_result"
    }
   ],
   "source": [
    "clean_rental[(clean_rental['NPS Score'] == 100) & (clean_rental['Recommend Comment'].notna())]['Recommend Comment']"
   ]
  },
  {
   "cell_type": "code",
   "execution_count": 67,
   "metadata": {
    "ExecuteTime": {
     "end_time": "2022-01-11T17:52:48.479715Z",
     "start_time": "2022-01-11T17:52:48.475783Z"
    }
   },
   "outputs": [],
   "source": [
    "def word_freq_by_score(df, column, score):\n",
    "    \"\"\"Takes in the dataframe, the name of the comment column and the NPS\n",
    "    score and returns a dataframe of the word frequencies. \"\"\"\n",
    "    \n",
    "    df = df[(df['NPS Score'] == score) & (df[column].notna())][column]\n",
    "    \n",
    "    corpus = []\n",
    "    \n",
    "    for i in df.index:\n",
    "        corpus.extend(df.loc[i])\n",
    "    freq_dict = nltk.FreqDist(corpus)\n",
    "    freq_df = pd.DataFrame.from_dict(freq_dict, orient='index')\n",
    "    freq_df = freq_df.sort_values(\n",
    "        0, ascending=False).rename(columns = ({0:'freq'}))\n",
    "    \n",
    "    num_comments = len(df)\n",
    "    freq_df['word_comment_ratio'] = round(freq_df['freq']/num_comments,2)\n",
    "    \n",
    "    return freq_df "
   ]
  },
  {
   "cell_type": "code",
   "execution_count": 68,
   "metadata": {
    "ExecuteTime": {
     "end_time": "2022-01-11T17:52:48.508531Z",
     "start_time": "2022-01-11T17:52:48.490536Z"
    }
   },
   "outputs": [
    {
     "data": {
      "text/html": [
       "<div>\n",
       "<style scoped>\n",
       "    .dataframe tbody tr th:only-of-type {\n",
       "        vertical-align: middle;\n",
       "    }\n",
       "\n",
       "    .dataframe tbody tr th {\n",
       "        vertical-align: top;\n",
       "    }\n",
       "\n",
       "    .dataframe thead th {\n",
       "        text-align: right;\n",
       "    }\n",
       "</style>\n",
       "<table border=\"1\" class=\"dataframe\">\n",
       "  <thead>\n",
       "    <tr style=\"text-align: right;\">\n",
       "      <th></th>\n",
       "      <th>freq</th>\n",
       "      <th>word_comment_ratio</th>\n",
       "    </tr>\n",
       "  </thead>\n",
       "  <tbody>\n",
       "    <tr>\n",
       "      <th>car</th>\n",
       "      <td>296</td>\n",
       "      <td>0.49</td>\n",
       "    </tr>\n",
       "    <tr>\n",
       "      <th>easy</th>\n",
       "      <td>196</td>\n",
       "      <td>0.33</td>\n",
       "    </tr>\n",
       "    <tr>\n",
       "      <th>service</th>\n",
       "      <td>118</td>\n",
       "      <td>0.20</td>\n",
       "    </tr>\n",
       "    <tr>\n",
       "      <th>great</th>\n",
       "      <td>111</td>\n",
       "      <td>0.18</td>\n",
       "    </tr>\n",
       "    <tr>\n",
       "      <th>good</th>\n",
       "      <td>84</td>\n",
       "      <td>0.14</td>\n",
       "    </tr>\n",
       "    <tr>\n",
       "      <th>vehicle</th>\n",
       "      <td>79</td>\n",
       "      <td>0.13</td>\n",
       "    </tr>\n",
       "    <tr>\n",
       "      <th>pick</th>\n",
       "      <td>78</td>\n",
       "      <td>0.13</td>\n",
       "    </tr>\n",
       "    <tr>\n",
       "      <th>friendly</th>\n",
       "      <td>73</td>\n",
       "      <td>0.12</td>\n",
       "    </tr>\n",
       "    <tr>\n",
       "      <th>rental</th>\n",
       "      <td>73</td>\n",
       "      <td>0.12</td>\n",
       "    </tr>\n",
       "    <tr>\n",
       "      <th>cars</th>\n",
       "      <td>71</td>\n",
       "      <td>0.12</td>\n",
       "    </tr>\n",
       "  </tbody>\n",
       "</table>\n",
       "</div>"
      ],
      "text/plain": [
       "          freq  word_comment_ratio\n",
       "car        296                0.49\n",
       "easy       196                0.33\n",
       "service    118                0.20\n",
       "great      111                0.18\n",
       "good        84                0.14\n",
       "vehicle     79                0.13\n",
       "pick        78                0.13\n",
       "friendly    73                0.12\n",
       "rental      73                0.12\n",
       "cars        71                0.12"
      ]
     },
     "execution_count": 68,
     "metadata": {},
     "output_type": "execute_result"
    }
   ],
   "source": [
    "pro_rec_freq= word_freq_by_score(clean_rental, 'Recommend Comment Tokenized', 100)\n",
    "pro_rec_freq[:10]"
   ]
  },
  {
   "cell_type": "code",
   "execution_count": 69,
   "metadata": {
    "ExecuteTime": {
     "end_time": "2022-01-11T17:52:48.523357Z",
     "start_time": "2022-01-11T17:52:48.511639Z"
    }
   },
   "outputs": [
    {
     "data": {
      "text/html": [
       "<div>\n",
       "<style scoped>\n",
       "    .dataframe tbody tr th:only-of-type {\n",
       "        vertical-align: middle;\n",
       "    }\n",
       "\n",
       "    .dataframe tbody tr th {\n",
       "        vertical-align: top;\n",
       "    }\n",
       "\n",
       "    .dataframe thead th {\n",
       "        text-align: right;\n",
       "    }\n",
       "</style>\n",
       "<table border=\"1\" class=\"dataframe\">\n",
       "  <thead>\n",
       "    <tr style=\"text-align: right;\">\n",
       "      <th></th>\n",
       "      <th>freq</th>\n",
       "      <th>word_comment_ratio</th>\n",
       "    </tr>\n",
       "  </thead>\n",
       "  <tbody>\n",
       "    <tr>\n",
       "      <th>car</th>\n",
       "      <td>122</td>\n",
       "      <td>0.63</td>\n",
       "    </tr>\n",
       "    <tr>\n",
       "      <th>gold</th>\n",
       "      <td>50</td>\n",
       "      <td>0.26</td>\n",
       "    </tr>\n",
       "    <tr>\n",
       "      <th>rental</th>\n",
       "      <td>46</td>\n",
       "      <td>0.24</td>\n",
       "    </tr>\n",
       "    <tr>\n",
       "      <th>cars</th>\n",
       "      <td>41</td>\n",
       "      <td>0.21</td>\n",
       "    </tr>\n",
       "    <tr>\n",
       "      <th>hertz</th>\n",
       "      <td>36</td>\n",
       "      <td>0.19</td>\n",
       "    </tr>\n",
       "    <tr>\n",
       "      <th>vehicle</th>\n",
       "      <td>36</td>\n",
       "      <td>0.19</td>\n",
       "    </tr>\n",
       "    <tr>\n",
       "      <th>get</th>\n",
       "      <td>27</td>\n",
       "      <td>0.14</td>\n",
       "    </tr>\n",
       "    <tr>\n",
       "      <th>available</th>\n",
       "      <td>26</td>\n",
       "      <td>0.13</td>\n",
       "    </tr>\n",
       "    <tr>\n",
       "      <th>service</th>\n",
       "      <td>24</td>\n",
       "      <td>0.12</td>\n",
       "    </tr>\n",
       "    <tr>\n",
       "      <th>time</th>\n",
       "      <td>23</td>\n",
       "      <td>0.12</td>\n",
       "    </tr>\n",
       "  </tbody>\n",
       "</table>\n",
       "</div>"
      ],
      "text/plain": [
       "           freq  word_comment_ratio\n",
       "car         122                0.63\n",
       "gold         50                0.26\n",
       "rental       46                0.24\n",
       "cars         41                0.21\n",
       "hertz        36                0.19\n",
       "vehicle      36                0.19\n",
       "get          27                0.14\n",
       "available    26                0.13\n",
       "service      24                0.12\n",
       "time         23                0.12"
      ]
     },
     "execution_count": 69,
     "metadata": {},
     "output_type": "execute_result"
    }
   ],
   "source": [
    "neu_rec_freq = word_freq_by_score(clean_rental, 'Recommend Comment Tokenized', 0)\n",
    "neu_rec_freq[:10]"
   ]
  },
  {
   "cell_type": "code",
   "execution_count": 70,
   "metadata": {
    "ExecuteTime": {
     "end_time": "2022-01-11T17:52:48.541675Z",
     "start_time": "2022-01-11T17:52:48.525101Z"
    }
   },
   "outputs": [
    {
     "data": {
      "text/html": [
       "<div>\n",
       "<style scoped>\n",
       "    .dataframe tbody tr th:only-of-type {\n",
       "        vertical-align: middle;\n",
       "    }\n",
       "\n",
       "    .dataframe tbody tr th {\n",
       "        vertical-align: top;\n",
       "    }\n",
       "\n",
       "    .dataframe thead th {\n",
       "        text-align: right;\n",
       "    }\n",
       "</style>\n",
       "<table border=\"1\" class=\"dataframe\">\n",
       "  <thead>\n",
       "    <tr style=\"text-align: right;\">\n",
       "      <th></th>\n",
       "      <th>freq</th>\n",
       "      <th>word_comment_ratio</th>\n",
       "    </tr>\n",
       "  </thead>\n",
       "  <tbody>\n",
       "    <tr>\n",
       "      <th>car</th>\n",
       "      <td>321</td>\n",
       "      <td>1.14</td>\n",
       "    </tr>\n",
       "    <tr>\n",
       "      <th>hertz</th>\n",
       "      <td>119</td>\n",
       "      <td>0.42</td>\n",
       "    </tr>\n",
       "    <tr>\n",
       "      <th>cars</th>\n",
       "      <td>102</td>\n",
       "      <td>0.36</td>\n",
       "    </tr>\n",
       "    <tr>\n",
       "      <th>rental</th>\n",
       "      <td>86</td>\n",
       "      <td>0.30</td>\n",
       "    </tr>\n",
       "    <tr>\n",
       "      <th>vehicle</th>\n",
       "      <td>79</td>\n",
       "      <td>0.28</td>\n",
       "    </tr>\n",
       "    <tr>\n",
       "      <th>told</th>\n",
       "      <td>68</td>\n",
       "      <td>0.24</td>\n",
       "    </tr>\n",
       "    <tr>\n",
       "      <th>would</th>\n",
       "      <td>63</td>\n",
       "      <td>0.22</td>\n",
       "    </tr>\n",
       "    <tr>\n",
       "      <th>gold</th>\n",
       "      <td>61</td>\n",
       "      <td>0.22</td>\n",
       "    </tr>\n",
       "    <tr>\n",
       "      <th>one</th>\n",
       "      <td>61</td>\n",
       "      <td>0.22</td>\n",
       "    </tr>\n",
       "    <tr>\n",
       "      <th>get</th>\n",
       "      <td>61</td>\n",
       "      <td>0.22</td>\n",
       "    </tr>\n",
       "  </tbody>\n",
       "</table>\n",
       "</div>"
      ],
      "text/plain": [
       "         freq  word_comment_ratio\n",
       "car       321                1.14\n",
       "hertz     119                0.42\n",
       "cars      102                0.36\n",
       "rental     86                0.30\n",
       "vehicle    79                0.28\n",
       "told       68                0.24\n",
       "would      63                0.22\n",
       "gold       61                0.22\n",
       "one        61                0.22\n",
       "get        61                0.22"
      ]
     },
     "execution_count": 70,
     "metadata": {},
     "output_type": "execute_result"
    }
   ],
   "source": [
    "det_rec_freq = word_freq_by_score(clean_rental, 'Recommend Comment Tokenized', -100)\n",
    "det_rec_freq[:10]"
   ]
  },
  {
   "cell_type": "code",
   "execution_count": 209,
   "metadata": {
    "ExecuteTime": {
     "end_time": "2022-01-11T19:57:15.536490Z",
     "start_time": "2022-01-11T19:57:15.216963Z"
    },
    "scrolled": false
   },
   "outputs": [
    {
     "data": {
      "image/png": "[encoded data removed]",
      "text/plain": [
       "<Figure size 720x1440 with 1 Axes>"
      ]
     },
     "metadata": {},
     "output_type": "display_data"
    }
   ],
   "source": [
    "overall_rec_com = pd.concat([det_rec_freq, neu_rec_freq], axis=1)\n",
    "overall_rec_com = pd.concat([overall_rec_com, pro_rec_freq], axis=1)\n",
    "overall_rec_com.columns = (\n",
    "    ['det_freq', 'det_ratio', 'neu_freq', 'neu_ratio', 'pro_freq', 'pro_ratio']\n",
    ")\n",
    "\n",
    "overall_rec_com['total_freq'] = (\n",
    "    overall_rec_com['det_freq'] +\n",
    "    overall_rec_com['neu_freq'] +\n",
    "    overall_rec_com['pro_freq']\n",
    ")\n",
    "\n",
    "overall_rec_com.sort_values('total_freq', ascending=False, inplace=True)\n",
    "\n",
    "overall_rec_com[['det_ratio','neu_ratio','pro_ratio']][:20].plot(\n",
    "    kind='barh', \n",
    "    figsize=(10, 20), \n",
    "    color=['darkblue','darkgray', 'lightblue']\n",
    ")\n",
    "plt.legend(labels = ['detractors', 'neutral', 'promoters'])\n",
    "plt.title(\n",
    "    'Ratio of Word to Comment by NPS for Most Frequently Used Words', \n",
    "    fontsize='x-large',\n",
    "    fontweight='bold'\n",
    ")\n",
    "plt.xlabel('Ratio of word to comment')\n",
    "plt.ylabel('Word');"
   ]
  },
  {
   "cell_type": "markdown",
   "metadata": {},
   "source": [
    "I considered the ratio of selected word to total corpus by NPS group to normalize for comparison since the groups are not the same size. "
   ]
  },
  {
   "cell_type": "markdown",
   "metadata": {},
   "source": [
    "## Vehicle Information"
   ]
  },
  {
   "cell_type": "code",
   "execution_count": 72,
   "metadata": {
    "ExecuteTime": {
     "end_time": "2022-01-11T17:52:48.844758Z",
     "start_time": "2022-01-11T17:52:48.839172Z"
    }
   },
   "outputs": [
    {
     "data": {
      "text/plain": [
       "10.0    653\n",
       "9.0     237\n",
       "8.0     195\n",
       "7.0     103\n",
       "5.0      64\n",
       "6.0      58\n",
       "0.0      40\n",
       "3.0      37\n",
       "4.0      29\n",
       "2.0      20\n",
       "1.0      19\n",
       "Name: Overall Satisfaction with Vehicle, dtype: int64"
      ]
     },
     "execution_count": 72,
     "metadata": {},
     "output_type": "execute_result"
    }
   ],
   "source": [
    "clean_rental['Overall Satisfaction with Vehicle'].value_counts()"
   ]
  },
  {
   "cell_type": "code",
   "execution_count": 73,
   "metadata": {
    "ExecuteTime": {
     "end_time": "2022-01-11T17:52:48.850738Z",
     "start_time": "2022-01-11T17:52:48.846565Z"
    }
   },
   "outputs": [
    {
     "data": {
      "text/plain": [
       "34"
      ]
     },
     "execution_count": 73,
     "metadata": {},
     "output_type": "execute_result"
    }
   ],
   "source": [
    "clean_rental['Overall Satisfaction with Vehicle'].isna().sum()"
   ]
  },
  {
   "cell_type": "code",
   "execution_count": 74,
   "metadata": {
    "ExecuteTime": {
     "end_time": "2022-01-11T17:52:48.856557Z",
     "start_time": "2022-01-11T17:52:48.852226Z"
    }
   },
   "outputs": [
    {
     "data": {
      "text/plain": [
       "NPS Score\n",
       "-100.0    5.196552\n",
       " 0.0      7.558140\n",
       " 100.0    9.306505\n",
       "Name: Overall Satisfaction with Vehicle, dtype: float64"
      ]
     },
     "execution_count": 74,
     "metadata": {},
     "output_type": "execute_result"
    }
   ],
   "source": [
    "clean_rental.groupby('NPS Score')['Overall Satisfaction with Vehicle'].mean()"
   ]
  },
  {
   "cell_type": "code",
   "execution_count": 75,
   "metadata": {
    "ExecuteTime": {
     "end_time": "2022-01-11T17:52:48.862422Z",
     "start_time": "2022-01-11T17:52:48.858101Z"
    }
   },
   "outputs": [
    {
     "data": {
      "text/plain": [
       "10.0    863\n",
       "9.0     228\n",
       "8.0     134\n",
       "7.0      68\n",
       "6.0      48\n",
       "0.0      32\n",
       "5.0      31\n",
       "4.0      13\n",
       "3.0      11\n",
       "2.0       9\n",
       "1.0       9\n",
       "Name: Mechanical condition of Vehicle, dtype: int64"
      ]
     },
     "execution_count": 75,
     "metadata": {},
     "output_type": "execute_result"
    }
   ],
   "source": [
    "clean_rental['Mechanical condition of Vehicle'].value_counts()"
   ]
  },
  {
   "cell_type": "code",
   "execution_count": 76,
   "metadata": {
    "ExecuteTime": {
     "end_time": "2022-01-11T17:52:48.867676Z",
     "start_time": "2022-01-11T17:52:48.863632Z"
    }
   },
   "outputs": [
    {
     "data": {
      "text/plain": [
       "43"
      ]
     },
     "execution_count": 76,
     "metadata": {},
     "output_type": "execute_result"
    }
   ],
   "source": [
    "clean_rental['Mechanical condition of Vehicle'].isna().sum()"
   ]
  },
  {
   "cell_type": "code",
   "execution_count": 77,
   "metadata": {
    "ExecuteTime": {
     "end_time": "2022-01-11T17:52:48.874580Z",
     "start_time": "2022-01-11T17:52:48.869638Z"
    },
    "scrolled": true
   },
   "outputs": [
    {
     "data": {
      "text/plain": [
       "NPS Score\n",
       "-100.0    6.929329\n",
       " 0.0      8.415020\n",
       " 100.0    9.554945\n",
       "Name: Mechanical condition of Vehicle, dtype: float64"
      ]
     },
     "execution_count": 77,
     "metadata": {},
     "output_type": "execute_result"
    }
   ],
   "source": [
    "clean_rental.groupby('NPS Score')['Mechanical condition of Vehicle'].mean()"
   ]
  },
  {
   "cell_type": "code",
   "execution_count": 78,
   "metadata": {
    "ExecuteTime": {
     "end_time": "2022-01-11T17:52:48.881864Z",
     "start_time": "2022-01-11T17:52:48.876444Z"
    },
    "scrolled": true
   },
   "outputs": [
    {
     "data": {
      "text/plain": [
       "10.0    799\n",
       "9.0     223\n",
       "8.0     152\n",
       "7.0      86\n",
       "0.0      40\n",
       "5.0      36\n",
       "4.0      34\n",
       "6.0      29\n",
       "2.0      19\n",
       "3.0      17\n",
       "1.0       9\n",
       "Name: Cleanliness of the Vehicle, dtype: int64"
      ]
     },
     "execution_count": 78,
     "metadata": {},
     "output_type": "execute_result"
    }
   ],
   "source": [
    "clean_rental['Cleanliness of the Vehicle'].value_counts()"
   ]
  },
  {
   "cell_type": "code",
   "execution_count": 79,
   "metadata": {
    "ExecuteTime": {
     "end_time": "2022-01-11T17:52:48.887479Z",
     "start_time": "2022-01-11T17:52:48.883849Z"
    }
   },
   "outputs": [
    {
     "data": {
      "text/plain": [
       "45"
      ]
     },
     "execution_count": 79,
     "metadata": {},
     "output_type": "execute_result"
    }
   ],
   "source": [
    "clean_rental['Cleanliness of the Vehicle'].isna().sum()"
   ]
  },
  {
   "cell_type": "code",
   "execution_count": 80,
   "metadata": {
    "ExecuteTime": {
     "end_time": "2022-01-11T17:52:48.893497Z",
     "start_time": "2022-01-11T17:52:48.888897Z"
    }
   },
   "outputs": [
    {
     "data": {
      "text/plain": [
       "NPS Score\n",
       "-100.0    6.381625\n",
       " 0.0      8.190476\n",
       " 100.0    9.387239\n",
       "Name: Cleanliness of the Vehicle, dtype: float64"
      ]
     },
     "execution_count": 80,
     "metadata": {},
     "output_type": "execute_result"
    }
   ],
   "source": [
    "clean_rental.groupby('NPS Score')['Cleanliness of the Vehicle'].mean()"
   ]
  },
  {
   "cell_type": "code",
   "execution_count": 81,
   "metadata": {
    "ExecuteTime": {
     "end_time": "2022-01-11T17:52:48.899049Z",
     "start_time": "2022-01-11T17:52:48.894925Z"
    },
    "scrolled": false
   },
   "outputs": [
    {
     "data": {
      "text/plain": [
       "10.0    691\n",
       "9.0     238\n",
       "8.0     174\n",
       "7.0     102\n",
       "5.0      76\n",
       "6.0      47\n",
       "3.0      34\n",
       "0.0      27\n",
       "2.0      20\n",
       "1.0      17\n",
       "4.0      16\n",
       "Name: Make & Model, dtype: int64"
      ]
     },
     "execution_count": 81,
     "metadata": {},
     "output_type": "execute_result"
    }
   ],
   "source": [
    "clean_rental['Make & Model'].value_counts()"
   ]
  },
  {
   "cell_type": "code",
   "execution_count": 82,
   "metadata": {
    "ExecuteTime": {
     "end_time": "2022-01-11T17:52:48.903841Z",
     "start_time": "2022-01-11T17:52:48.900517Z"
    }
   },
   "outputs": [
    {
     "data": {
      "text/plain": [
       "47"
      ]
     },
     "execution_count": 82,
     "metadata": {},
     "output_type": "execute_result"
    }
   ],
   "source": [
    "clean_rental['Make & Model'].isna().sum()"
   ]
  },
  {
   "cell_type": "code",
   "execution_count": 83,
   "metadata": {
    "ExecuteTime": {
     "end_time": "2022-01-11T17:52:48.909636Z",
     "start_time": "2022-01-11T17:52:48.905123Z"
    },
    "scrolled": true
   },
   "outputs": [
    {
     "data": {
      "text/plain": [
       "NPS Score\n",
       "-100.0    6.109541\n",
       " 0.0      7.583333\n",
       " 100.0    9.264609\n",
       "Name: Make & Model, dtype: float64"
      ]
     },
     "execution_count": 83,
     "metadata": {},
     "output_type": "execute_result"
    }
   ],
   "source": [
    "clean_rental.groupby('NPS Score')['Make & Model'].mean()"
   ]
  },
  {
   "cell_type": "markdown",
   "metadata": {},
   "source": [
    "The distribution of satisfaction with and condition of  the vehicle matches what was seem with overall recommendation score. Based upon the average satisfaction score by NPS category, it appears that issues with the vehicle may be a driver of low customer scores. I am going to create a new column that is the average of all the ratings dealing with the overall condition of the vehicle."
   ]
  },
  {
   "cell_type": "code",
   "execution_count": 84,
   "metadata": {
    "ExecuteTime": {
     "end_time": "2022-01-11T17:52:48.914594Z",
     "start_time": "2022-01-11T17:52:48.910891Z"
    }
   },
   "outputs": [],
   "source": [
    "clean_rental['Overall Vehicle Condition'] = (\n",
    "    clean_rental['Overall Satisfaction with Vehicle']+\n",
    "    clean_rental['Mechanical condition of Vehicle']+\n",
    "    clean_rental['Cleanliness of the Vehicle']+\n",
    "    clean_rental['Make & Model']+\n",
    "    clean_rental['Vehicle Selection (Choice)']+\n",
    "    clean_rental['Vehicle Features']+\n",
    "    clean_rental['Value for the Money'])/7"
   ]
  },
  {
   "cell_type": "code",
   "execution_count": 85,
   "metadata": {
    "ExecuteTime": {
     "end_time": "2022-01-11T17:52:49.086443Z",
     "start_time": "2022-01-11T17:52:48.915779Z"
    },
    "scrolled": true
   },
   "outputs": [
    {
     "data": {
      "image/png": "[encoded data removed]",
      "text/plain": [
       "<Figure size 432x288 with 1 Axes>"
      ]
     },
     "metadata": {},
     "output_type": "display_data"
    }
   ],
   "source": [
    "sns.histplot(clean_rental['Overall Vehicle Condition'], color='darkblue')\n",
    "plt.grid(False)\n",
    "plt.title('Distribution of Overall Condition of Vehicle');"
   ]
  },
  {
   "cell_type": "code",
   "execution_count": 86,
   "metadata": {
    "ExecuteTime": {
     "end_time": "2022-01-11T17:52:49.215177Z",
     "start_time": "2022-01-11T17:52:49.088519Z"
    },
    "scrolled": false
   },
   "outputs": [
    {
     "data": {
      "image/png": "[encoded data removed]",
      "text/plain": [
       "<Figure size 864x576 with 1 Axes>"
      ]
     },
     "metadata": {},
     "output_type": "display_data"
    }
   ],
   "source": [
    "fig, ax = plt.subplots(figsize=(12,8))\n",
    "sns.boxplot(\n",
    "    data=clean_rental, \n",
    "    x='NPS Score', \n",
    "    y='Overall Vehicle Condition',\n",
    "    palette = ['darkblue','darkgray','lightblue']\n",
    ")\n",
    "plt.title(\n",
    "    'Distribution of Vehicle Condition by NPS Category', \n",
    "    fontsize='x-large', \n",
    "    fontweight='bold'\n",
    ")\n",
    "plt.grid(False)\n",
    "ax.set_xticklabels(\n",
    "    ['detractor','neutral','promoter'], \n",
    "    fontsize='large',\n",
    "    fontweight = 'bold'\n",
    ")\n",
    "plt.ylabel(\n",
    "    'Overall vehicle condition', \n",
    "    fontsize='large',\n",
    "    fontweight='bold'\n",
    ");"
   ]
  },
  {
   "cell_type": "code",
   "execution_count": 176,
   "metadata": {
    "ExecuteTime": {
     "end_time": "2022-01-11T18:35:52.803372Z",
     "start_time": "2022-01-11T18:35:52.795666Z"
    }
   },
   "outputs": [
    {
     "data": {
      "text/html": [
       "<div>\n",
       "<style scoped>\n",
       "    .dataframe tbody tr th:only-of-type {\n",
       "        vertical-align: middle;\n",
       "    }\n",
       "\n",
       "    .dataframe tbody tr th {\n",
       "        vertical-align: top;\n",
       "    }\n",
       "\n",
       "    .dataframe thead th {\n",
       "        text-align: right;\n",
       "    }\n",
       "</style>\n",
       "<table border=\"1\" class=\"dataframe\">\n",
       "  <thead>\n",
       "    <tr style=\"text-align: right;\">\n",
       "      <th></th>\n",
       "      <th>Overall Vehicle Condition</th>\n",
       "    </tr>\n",
       "    <tr>\n",
       "      <th>Original Customer Tier Code</th>\n",
       "      <th></th>\n",
       "    </tr>\n",
       "  </thead>\n",
       "  <tbody>\n",
       "    <tr>\n",
       "      <th>Platinum</th>\n",
       "      <td>8.928571</td>\n",
       "    </tr>\n",
       "    <tr>\n",
       "      <th>Presidents Circle</th>\n",
       "      <td>8.399638</td>\n",
       "    </tr>\n",
       "    <tr>\n",
       "      <th>#1 Club Member</th>\n",
       "      <td>8.391534</td>\n",
       "    </tr>\n",
       "    <tr>\n",
       "      <th>5 Star Gold</th>\n",
       "      <td>8.308620</td>\n",
       "    </tr>\n",
       "    <tr>\n",
       "      <th>Non-Member</th>\n",
       "      <td>8.302795</td>\n",
       "    </tr>\n",
       "    <tr>\n",
       "      <th>Regular Gold</th>\n",
       "      <td>8.142656</td>\n",
       "    </tr>\n",
       "  </tbody>\n",
       "</table>\n",
       "</div>"
      ],
      "text/plain": [
       "                             Overall Vehicle Condition\n",
       "Original Customer Tier Code                           \n",
       "Platinum                                      8.928571\n",
       "Presidents Circle                             8.399638\n",
       "#1 Club Member                                8.391534\n",
       "5 Star Gold                                   8.308620\n",
       "Non-Member                                    8.302795\n",
       "Regular Gold                                  8.142656"
      ]
     },
     "execution_count": 176,
     "metadata": {},
     "output_type": "execute_result"
    }
   ],
   "source": [
    "pd.DataFrame(\n",
    "    clean_rental.groupby(\n",
    "        'Original Customer Tier Code'\n",
    "    )['Overall Vehicle Condition'].mean()\n",
    ").sort_values(\n",
    "    'Overall Vehicle Condition',\n",
    "    ascending=False\n",
    ")"
   ]
  },
  {
   "cell_type": "markdown",
   "metadata": {},
   "source": [
    "## Quality of Service"
   ]
  },
  {
   "cell_type": "markdown",
   "metadata": {},
   "source": [
    "I am going to create an aggregate column for overall quality of service. First, I will need to change the two columns with \"Yes\" and \"No\" to the numerical values of 10 and 0."
   ]
  },
  {
   "cell_type": "code",
   "execution_count": 87,
   "metadata": {
    "ExecuteTime": {
     "end_time": "2022-01-11T17:52:49.221137Z",
     "start_time": "2022-01-11T17:52:49.217029Z"
    }
   },
   "outputs": [],
   "source": [
    "clean_rental['Vehicle Ready Upon Arrival'] = np.where(\n",
    "    clean_rental['Vehicle Ready Upon Arrival'] == 'Yes', 10, 0\n",
    ")"
   ]
  },
  {
   "cell_type": "code",
   "execution_count": 88,
   "metadata": {
    "ExecuteTime": {
     "end_time": "2022-01-11T17:52:49.226814Z",
     "start_time": "2022-01-11T17:52:49.223301Z"
    }
   },
   "outputs": [],
   "source": [
    "clean_rental['Greeted with Smile'] = np.where(\n",
    "    clean_rental['Greeted with Smile'] == 'Yes', 10, 0\n",
    ")"
   ]
  },
  {
   "cell_type": "code",
   "execution_count": 89,
   "metadata": {
    "ExecuteTime": {
     "end_time": "2022-01-11T17:52:49.233279Z",
     "start_time": "2022-01-11T17:52:49.228683Z"
    },
    "scrolled": false
   },
   "outputs": [],
   "source": [
    "clean_rental['Overall Service Quality'] = (\n",
    "    clean_rental['Ease of Pick Up']+\n",
    "    clean_rental['Ease of Returning Your Vehicle']+\n",
    "    clean_rental['Helpfulness of the Staff']+\n",
    "    clean_rental['Felt like a Valued Customer']+\n",
    "    clean_rental['Speed of Service']+\n",
    "    clean_rental['Vehicle Ready Upon Arrival']+\n",
    "    clean_rental['Greeted with Smile'])/8"
   ]
  },
  {
   "cell_type": "code",
   "execution_count": 90,
   "metadata": {
    "ExecuteTime": {
     "end_time": "2022-01-11T17:52:49.391977Z",
     "start_time": "2022-01-11T17:52:49.234623Z"
    },
    "scrolled": true
   },
   "outputs": [
    {
     "data": {
      "image/png": "[encoded data removed]",
      "text/plain": [
       "<Figure size 432x288 with 1 Axes>"
      ]
     },
     "metadata": {},
     "output_type": "display_data"
    }
   ],
   "source": [
    "sns.histplot(clean_rental['Overall Service Quality'], color='darkblue')\n",
    "plt.grid(False)\n",
    "plt.title('Distribution of Overall Service Quality');"
   ]
  },
  {
   "cell_type": "code",
   "execution_count": 91,
   "metadata": {
    "ExecuteTime": {
     "end_time": "2022-01-11T17:52:49.514504Z",
     "start_time": "2022-01-11T17:52:49.393994Z"
    },
    "scrolled": false
   },
   "outputs": [
    {
     "data": {
      "image/png": "[encoded data removed]",
      "text/plain": [
       "<Figure size 864x576 with 1 Axes>"
      ]
     },
     "metadata": {},
     "output_type": "display_data"
    }
   ],
   "source": [
    "fig, ax = plt.subplots(figsize=(12,8))\n",
    "sns.boxplot(\n",
    "    data=clean_rental, \n",
    "    x='NPS Score', \n",
    "    y='Overall Service Quality',\n",
    "    palette = ['darkblue','darkgray','lightblue']\n",
    ")\n",
    "plt.title(\n",
    "    'Distribution of Serive Quality by NPS Category', \n",
    "    fontsize='x-large', \n",
    "    fontweight='bold'\n",
    ")\n",
    "plt.grid(False)\n",
    "ax.set_xticklabels(\n",
    "    ['detractor','neutral','promoter'], \n",
    "    fontsize='large',\n",
    "    fontweight = 'bold'\n",
    ")\n",
    "plt.ylabel(\n",
    "    'Overall vehicle condition', \n",
    "    fontsize='large',\n",
    "    fontweight='bold'\n",
    ");"
   ]
  },
  {
   "cell_type": "code",
   "execution_count": 175,
   "metadata": {
    "ExecuteTime": {
     "end_time": "2022-01-11T18:35:20.056653Z",
     "start_time": "2022-01-11T18:35:20.048780Z"
    },
    "scrolled": true
   },
   "outputs": [
    {
     "data": {
      "text/html": [
       "<div>\n",
       "<style scoped>\n",
       "    .dataframe tbody tr th:only-of-type {\n",
       "        vertical-align: middle;\n",
       "    }\n",
       "\n",
       "    .dataframe tbody tr th {\n",
       "        vertical-align: top;\n",
       "    }\n",
       "\n",
       "    .dataframe thead th {\n",
       "        text-align: right;\n",
       "    }\n",
       "</style>\n",
       "<table border=\"1\" class=\"dataframe\">\n",
       "  <thead>\n",
       "    <tr style=\"text-align: right;\">\n",
       "      <th></th>\n",
       "      <th>Overall Service Quality</th>\n",
       "    </tr>\n",
       "    <tr>\n",
       "      <th>Original Customer Tier Code</th>\n",
       "      <th></th>\n",
       "    </tr>\n",
       "  </thead>\n",
       "  <tbody>\n",
       "    <tr>\n",
       "      <th>Platinum</th>\n",
       "      <td>8.450000</td>\n",
       "    </tr>\n",
       "    <tr>\n",
       "      <th>#1 Club Member</th>\n",
       "      <td>7.446429</td>\n",
       "    </tr>\n",
       "    <tr>\n",
       "      <th>Regular Gold</th>\n",
       "      <td>7.370180</td>\n",
       "    </tr>\n",
       "    <tr>\n",
       "      <th>Non-Member</th>\n",
       "      <td>7.309615</td>\n",
       "    </tr>\n",
       "    <tr>\n",
       "      <th>5 Star Gold</th>\n",
       "      <td>7.304150</td>\n",
       "    </tr>\n",
       "    <tr>\n",
       "      <th>Presidents Circle</th>\n",
       "      <td>7.257622</td>\n",
       "    </tr>\n",
       "  </tbody>\n",
       "</table>\n",
       "</div>"
      ],
      "text/plain": [
       "                             Overall Service Quality\n",
       "Original Customer Tier Code                         \n",
       "Platinum                                    8.450000\n",
       "#1 Club Member                              7.446429\n",
       "Regular Gold                                7.370180\n",
       "Non-Member                                  7.309615\n",
       "5 Star Gold                                 7.304150\n",
       "Presidents Circle                           7.257622"
      ]
     },
     "execution_count": 175,
     "metadata": {},
     "output_type": "execute_result"
    }
   ],
   "source": [
    "pd.DataFrame(\n",
    "    clean_rental.groupby(\n",
    "        'Original Customer Tier Code'\n",
    "    )['Overall Service Quality'].mean()\n",
    ").sort_values(\n",
    "    'Overall Service Quality',\n",
    "    ascending=False\n",
    ")"
   ]
  },
  {
   "cell_type": "code",
   "execution_count": 197,
   "metadata": {
    "ExecuteTime": {
     "end_time": "2022-01-11T18:47:46.185394Z",
     "start_time": "2022-01-11T18:47:45.949070Z"
    }
   },
   "outputs": [
    {
     "data": {
      "image/png": "[encoded data removed]",
      "text/plain": [
       "<Figure size 864x576 with 1 Axes>"
      ]
     },
     "metadata": {},
     "output_type": "display_data"
    }
   ],
   "source": [
    "fig, ax = plt.subplots(figsize = (12, 8))\n",
    "sns.scatterplot(\n",
    "    x='Overall Service Quality', \n",
    "    y='Overall Vehicle Condition', \n",
    "    hue='NPS Score', \n",
    "    data=clean_rental,\n",
    "    palette=['darkblue', 'darkgray', 'lightblue']\n",
    ")\n",
    "plt.title(\n",
    "    'Correlation of Vehicle Condition and Service Quality',\n",
    "    fontsize='x-large',\n",
    "    fontweight = 'bold'\n",
    ")\n",
    "plt.legend(labels=['promoter', 'detractor', 'neutral'])\n",
    "plt.xlabel('Overall Service Quality', fontweight='bold')\n",
    "plt.ylabel('Overall Vehicle Condition', fontweight='bold');"
   ]
  },
  {
   "cell_type": "markdown",
   "metadata": {},
   "source": [
    "## Billing"
   ]
  },
  {
   "cell_type": "code",
   "execution_count": 92,
   "metadata": {
    "ExecuteTime": {
     "end_time": "2022-01-11T17:52:49.521490Z",
     "start_time": "2022-01-11T17:52:49.516576Z"
    },
    "scrolled": true
   },
   "outputs": [
    {
     "data": {
      "text/plain": [
       "Yes    1225\n",
       "No      182\n",
       "Name: Bill Correct, dtype: int64"
      ]
     },
     "execution_count": 92,
     "metadata": {},
     "output_type": "execute_result"
    }
   ],
   "source": [
    "clean_rental['Bill Correct'].value_counts()"
   ]
  },
  {
   "cell_type": "code",
   "execution_count": 93,
   "metadata": {
    "ExecuteTime": {
     "end_time": "2022-01-11T17:52:49.528923Z",
     "start_time": "2022-01-11T17:52:49.523676Z"
    },
    "scrolled": true
   },
   "outputs": [
    {
     "data": {
      "text/plain": [
       "Bill Correct\n",
       "No     159\n",
       "Yes      0\n",
       "Name: Bill Correct Comment, dtype: int64"
      ]
     },
     "execution_count": 93,
     "metadata": {},
     "output_type": "execute_result"
    }
   ],
   "source": [
    "clean_rental.groupby('Bill Correct')['Bill Correct Comment'].count()"
   ]
  },
  {
   "cell_type": "markdown",
   "metadata": {},
   "source": [
    "Since all of these comments are associated with an incorrect bill, it does not make sense to parse them by NPS, as with the general comments."
   ]
  },
  {
   "cell_type": "code",
   "execution_count": 94,
   "metadata": {
    "ExecuteTime": {
     "end_time": "2022-01-11T17:52:49.537200Z",
     "start_time": "2022-01-11T17:52:49.530549Z"
    }
   },
   "outputs": [],
   "source": [
    "clean_rental['Bill Correct Comment Tokenized'] = (\n",
    "    clean_rental\n",
    "             [clean_rental['Bill Correct Comment'].notna()\n",
    "             ]['Bill Correct Comment']\n",
    "             .apply(clean_text)\n",
    "             )"
   ]
  },
  {
   "cell_type": "code",
   "execution_count": 95,
   "metadata": {
    "ExecuteTime": {
     "end_time": "2022-01-11T17:52:49.544090Z",
     "start_time": "2022-01-11T17:52:49.538489Z"
    }
   },
   "outputs": [],
   "source": [
    "bill_comm_ind = (\n",
    "    clean_rental[clean_rental['Bill Correct Comment Tokenized'].notna()]\n",
    "    ['Bill Correct Comment Tokenized'].index\n",
    ")\n",
    "\n",
    "bill_comm_corpus = []\n",
    "\n",
    "for i in bill_comm_ind:\n",
    "    bill_comm_corpus.extend(clean_rental.loc[i,'Bill Correct Comment Tokenized'])"
   ]
  },
  {
   "cell_type": "code",
   "execution_count": 96,
   "metadata": {
    "ExecuteTime": {
     "end_time": "2022-01-11T17:52:49.831490Z",
     "start_time": "2022-01-11T17:52:49.546155Z"
    },
    "scrolled": true
   },
   "outputs": [
    {
     "data": {
      "image/png": "[encoded data removed]",
      "text/plain": [
       "<Figure size 432x720 with 1 Axes>"
      ]
     },
     "metadata": {},
     "output_type": "display_data"
    }
   ],
   "source": [
    "bill_comm_freq_dict = nltk.FreqDist(bill_comm_corpus)\n",
    "bill_comm_freq_df = pd.DataFrame.from_dict(bill_comm_freq_dict, orient='index')\n",
    "bill_comm_freq_df = bill_comm_freq_df.sort_values(\n",
    "    0, \n",
    "    ascending=False\n",
    ").rename(columns = ({0:'freq'}))\n",
    "fig,ax = plt.subplots(figsize=(6, 10))\n",
    "sns.barplot(\n",
    "    x=bill_comm_freq_df['freq'][:20].values, \n",
    "    y=bill_comm_freq_df[:20].index,\n",
    "    color='lightblue'\n",
    ")\n",
    "plt.title('Word Frequency in Billing Comments');"
   ]
  },
  {
   "cell_type": "markdown",
   "metadata": {},
   "source": [
    "## Rental Purpose"
   ]
  },
  {
   "cell_type": "code",
   "execution_count": 97,
   "metadata": {
    "ExecuteTime": {
     "end_time": "2022-01-11T17:52:49.838347Z",
     "start_time": "2022-01-11T17:52:49.833809Z"
    },
    "scrolled": true
   },
   "outputs": [
    {
     "data": {
      "text/plain": [
       "Leisure                         748\n",
       "Business                        457\n",
       "Both Business and Leisure       188\n",
       "Other                            17\n",
       "Insurance Replacement/Loaner      1\n",
       "Name: Primary Rental Purpose, dtype: int64"
      ]
     },
     "execution_count": 97,
     "metadata": {},
     "output_type": "execute_result"
    }
   ],
   "source": [
    "clean_rental['Primary Rental Purpose'].value_counts()"
   ]
  },
  {
   "cell_type": "code",
   "execution_count": 98,
   "metadata": {
    "ExecuteTime": {
     "end_time": "2022-01-11T17:52:49.984459Z",
     "start_time": "2022-01-11T17:52:49.840178Z"
    },
    "scrolled": false
   },
   "outputs": [
    {
     "data": {
      "image/png": "[encoded data removed]",
      "text/plain": [
       "<Figure size 432x288 with 1 Axes>"
      ]
     },
     "metadata": {},
     "output_type": "display_data"
    }
   ],
   "source": [
    "pd.crosstab(clean_rental['NPS Score'], clean_rental['Primary Rental Purpose']).plot(kind='bar')\n",
    "plt.grid(False)"
   ]
  },
  {
   "cell_type": "markdown",
   "metadata": {
    "ExecuteTime": {
     "end_time": "2022-01-11T12:28:42.891543Z",
     "start_time": "2022-01-11T12:28:42.877574Z"
    }
   },
   "source": [
    "Across the NPS categories, the primary rental purpose was leisure, followed by business and a mix of the two. There does not seem to be an association between rental purpose and NPS."
   ]
  },
  {
   "cell_type": "markdown",
   "metadata": {},
   "source": [
    "## Other Comments"
   ]
  },
  {
   "cell_type": "code",
   "execution_count": 99,
   "metadata": {
    "ExecuteTime": {
     "end_time": "2022-01-11T17:52:49.992200Z",
     "start_time": "2022-01-11T17:52:49.986299Z"
    },
    "scrolled": false
   },
   "outputs": [
    {
     "data": {
      "text/plain": [
       "6                                                      No\n",
       "23                             Can’t remember their name.\n",
       "40                                                   None\n",
       "45                                                     no\n",
       "47                                                     No\n",
       "                              ...                        \n",
       "1460    The person I made initial contact Gema was the...\n",
       "1471                                                 Jose\n",
       "1473    Do not remember her name but the counter perso...\n",
       "1486    The agent that handled my rental on the phone ...\n",
       "1492                       Joss at Hilton Phoenix airport\n",
       "Name: Recognize Staff Comment, Length: 265, dtype: object"
      ]
     },
     "execution_count": 99,
     "metadata": {},
     "output_type": "execute_result"
    }
   ],
   "source": [
    "clean_rental[clean_rental['Recognize Staff Comment'].notna()][\"Recognize Staff Comment\"]"
   ]
  },
  {
   "cell_type": "code",
   "execution_count": 100,
   "metadata": {
    "ExecuteTime": {
     "end_time": "2022-01-11T17:52:49.999846Z",
     "start_time": "2022-01-11T17:52:49.994266Z"
    }
   },
   "outputs": [],
   "source": [
    "clean_rental['Recognize Staff Comment Tokenized'] = (\n",
    "    clean_rental\n",
    "             [clean_rental['Recognize Staff Comment'].notna()\n",
    "             ]['Recognize Staff Comment']\n",
    "             .apply(clean_text)\n",
    "             )"
   ]
  },
  {
   "cell_type": "code",
   "execution_count": 101,
   "metadata": {
    "ExecuteTime": {
     "end_time": "2022-01-11T17:52:50.007174Z",
     "start_time": "2022-01-11T17:52:50.001199Z"
    }
   },
   "outputs": [],
   "source": [
    "staff_comm_ind = (\n",
    "    clean_rental[clean_rental['Recognize Staff Comment Tokenized'].notna()]\n",
    "    ['Recognize Staff Comment Tokenized'].index\n",
    ")\n",
    "\n",
    "staff_comm_corpus = []\n",
    "\n",
    "for i in staff_comm_ind:\n",
    "    staff_comm_corpus.extend(clean_rental.loc[i,'Recognize Staff Comment Tokenized'])"
   ]
  },
  {
   "cell_type": "code",
   "execution_count": 102,
   "metadata": {
    "ExecuteTime": {
     "end_time": "2022-01-11T17:52:50.017781Z",
     "start_time": "2022-01-11T17:52:50.009051Z"
    },
    "scrolled": false
   },
   "outputs": [
    {
     "data": {
      "text/html": [
       "<div>\n",
       "<style scoped>\n",
       "    .dataframe tbody tr th:only-of-type {\n",
       "        vertical-align: middle;\n",
       "    }\n",
       "\n",
       "    .dataframe tbody tr th {\n",
       "        vertical-align: top;\n",
       "    }\n",
       "\n",
       "    .dataframe thead th {\n",
       "        text-align: right;\n",
       "    }\n",
       "</style>\n",
       "<table border=\"1\" class=\"dataframe\">\n",
       "  <thead>\n",
       "    <tr style=\"text-align: right;\">\n",
       "      <th></th>\n",
       "      <th>0</th>\n",
       "    </tr>\n",
       "  </thead>\n",
       "  <tbody>\n",
       "    <tr>\n",
       "      <th>name</th>\n",
       "      <td>46</td>\n",
       "    </tr>\n",
       "    <tr>\n",
       "      <th>helpful</th>\n",
       "      <td>32</td>\n",
       "    </tr>\n",
       "    <tr>\n",
       "      <th>car</th>\n",
       "      <td>27</td>\n",
       "    </tr>\n",
       "    <tr>\n",
       "      <th>hertz</th>\n",
       "      <td>22</td>\n",
       "    </tr>\n",
       "    <tr>\n",
       "      <th>friendly</th>\n",
       "      <td>21</td>\n",
       "    </tr>\n",
       "    <tr>\n",
       "      <th>staff</th>\n",
       "      <td>19</td>\n",
       "    </tr>\n",
       "    <tr>\n",
       "      <th>great</th>\n",
       "      <td>18</td>\n",
       "    </tr>\n",
       "    <tr>\n",
       "      <th>rental</th>\n",
       "      <td>16</td>\n",
       "    </tr>\n",
       "    <tr>\n",
       "      <th>airport</th>\n",
       "      <td>16</td>\n",
       "    </tr>\n",
       "    <tr>\n",
       "      <th>helped</th>\n",
       "      <td>15</td>\n",
       "    </tr>\n",
       "    <tr>\n",
       "      <th>get</th>\n",
       "      <td>15</td>\n",
       "    </tr>\n",
       "    <tr>\n",
       "      <th>person</th>\n",
       "      <td>15</td>\n",
       "    </tr>\n",
       "    <tr>\n",
       "      <th>gentleman</th>\n",
       "      <td>15</td>\n",
       "    </tr>\n",
       "    <tr>\n",
       "      <th>counter</th>\n",
       "      <td>14</td>\n",
       "    </tr>\n",
       "    <tr>\n",
       "      <th>return</th>\n",
       "      <td>13</td>\n",
       "    </tr>\n",
       "    <tr>\n",
       "      <th>names</th>\n",
       "      <td>13</td>\n",
       "    </tr>\n",
       "    <tr>\n",
       "      <th>remember</th>\n",
       "      <td>13</td>\n",
       "    </tr>\n",
       "    <tr>\n",
       "      <th>checked</th>\n",
       "      <td>13</td>\n",
       "    </tr>\n",
       "    <tr>\n",
       "      <th>employees</th>\n",
       "      <td>12</td>\n",
       "    </tr>\n",
       "    <tr>\n",
       "      <th>us</th>\n",
       "      <td>12</td>\n",
       "    </tr>\n",
       "  </tbody>\n",
       "</table>\n",
       "</div>"
      ],
      "text/plain": [
       "            0\n",
       "name       46\n",
       "helpful    32\n",
       "car        27\n",
       "hertz      22\n",
       "friendly   21\n",
       "staff      19\n",
       "great      18\n",
       "rental     16\n",
       "airport    16\n",
       "helped     15\n",
       "get        15\n",
       "person     15\n",
       "gentleman  15\n",
       "counter    14\n",
       "return     13\n",
       "names      13\n",
       "remember   13\n",
       "checked    13\n",
       "employees  12\n",
       "us         12"
      ]
     },
     "execution_count": 102,
     "metadata": {},
     "output_type": "execute_result"
    }
   ],
   "source": [
    "staff_comm_freq_dict = nltk.FreqDist(staff_comm_corpus)\n",
    "staff_comm_freq_df = pd.DataFrame.from_dict(staff_comm_freq_dict, orient='index')\n",
    "staff_comm_freq_df.sort_values(0, ascending=False)[:20]"
   ]
  },
  {
   "cell_type": "code",
   "execution_count": 123,
   "metadata": {
    "ExecuteTime": {
     "end_time": "2022-01-11T17:59:38.890779Z",
     "start_time": "2022-01-11T17:59:38.885207Z"
    },
    "scrolled": true
   },
   "outputs": [
    {
     "data": {
      "text/plain": [
       "6                                                     No.\n",
       "10      I like the Gold select a car a go feature the ...\n",
       "13      Het vak met type 3 was leeg, daarop moest ik h...\n",
       "23      Honestly feel the cost of renting a car is too...\n",
       "26                       Thank you for your awesomeness 😊\n",
       "                              ...                        \n",
       "1445    カーナビを以前まで借りていたが、使い勝手が悪く、 今回は自分のグーグルマップで代用しました。...\n",
       "1456    No ................. refund my day and fees im...\n",
       "1462    Not having water at the exit gate is not a gre...\n",
       "1476    My experience was fast & efficient. The return...\n",
       "1479    better selection of vehicles in Presidents circle\n",
       "Name: Additional Comments, Length: 217, dtype: object"
      ]
     },
     "execution_count": 123,
     "metadata": {},
     "output_type": "execute_result"
    }
   ],
   "source": [
    "clean_rental[clean_rental['Additional Comments'].notna()]['Additional Comments']"
   ]
  },
  {
   "cell_type": "markdown",
   "metadata": {},
   "source": [
    "## Agent"
   ]
  },
  {
   "cell_type": "code",
   "execution_count": 132,
   "metadata": {
    "ExecuteTime": {
     "end_time": "2022-01-11T18:07:00.429132Z",
     "start_time": "2022-01-11T18:07:00.423741Z"
    }
   },
   "outputs": [],
   "source": [
    "nps_by_agent = (\n",
    "    clean_rental.groupby('VSA Agent Last Name')\n",
    "    .agg(\n",
    "        {\n",
    "            'NPS Score': 'mean', \n",
    "            'Survey ID':'count'\n",
    "        }\n",
    "    ).sort_values('NPS Score')\n",
    ")"
   ]
  },
  {
   "cell_type": "code",
   "execution_count": 208,
   "metadata": {
    "ExecuteTime": {
     "end_time": "2022-01-11T19:41:58.178316Z",
     "start_time": "2022-01-11T19:41:57.747706Z"
    }
   },
   "outputs": [
    {
     "data": {
      "image/png": "[encoded data removed]",
      "text/plain": [
       "<Figure size 1080x576 with 1 Axes>"
      ]
     },
     "metadata": {},
     "output_type": "display_data"
    }
   ],
   "source": [
    "fig, ax = plt.subplots(figsize = (15,8))\n",
    "sns.barplot(\n",
    "    x = nps_by_agent[nps_by_agent['Survey ID'] > 6]['NPS Score'].values,\n",
    "    y = nps_by_agent[nps_by_agent['Survey ID'] > 6]['NPS Score'].index,\n",
    "    color = 'lightblue'\n",
    ")\n",
    "plt.title('Average NPS Score by Agent', fontsize='x-large', fontweight='bold')\n",
    "plt.xlabel('Avg NPS');"
   ]
  },
  {
   "cell_type": "markdown",
   "metadata": {
    "ExecuteTime": {
     "end_time": "2022-01-11T18:12:53.405613Z",
     "start_time": "2022-01-11T18:12:53.400468Z"
    }
   },
   "source": [
    "## Investigate Recommendation Scores of Zero"
   ]
  },
  {
   "cell_type": "code",
   "execution_count": 198,
   "metadata": {
    "ExecuteTime": {
     "end_time": "2022-01-11T18:48:08.465310Z",
     "start_time": "2022-01-11T18:48:08.325285Z"
    }
   },
   "outputs": [
    {
     "data": {
      "image/png": "[encoded data removed]",
      "text/plain": [
       "<Figure size 432x288 with 1 Axes>"
      ]
     },
     "metadata": {},
     "output_type": "display_data"
    }
   ],
   "source": [
    "zero = clean_rental[clean_rental['Recommend'] == 0]\n",
    "sns.scatterplot(\n",
    "    x='Overall Vehicle Condition', \n",
    "    y='Overall Service Quality', \n",
    "    data=zero\n",
    ");"
   ]
  },
  {
   "cell_type": "code",
   "execution_count": 200,
   "metadata": {
    "ExecuteTime": {
     "end_time": "2022-01-11T18:49:16.919244Z",
     "start_time": "2022-01-11T18:49:16.914080Z"
    },
    "scrolled": false
   },
   "outputs": [
    {
     "name": "stdout",
     "output_type": "stream",
     "text": [
      "After dinner in Surprise Arizona, I went out to my Hertz rental car in the restaurant parking lot and it would not start. I called Hertz roadside assistance to arrange for a new car. I was put on hold. Hertz roadside assistance came back on and informed me that because no one at the Phoenix Airport Hertz location would answer the phone, she could not arrange for replacement car and I would need to ride in the tow truck back to the Phoenix Hertz and arrange for a replacement myself. I reluctantly agreed because I was not given any other choice. The Roadside assistance person started talking about a double tow without explaining what that means. While waiting for the tow truck to arrive. I attempted several times to call the Phoenix airport Hertz office, but was unable. I call another business at the airport that had a direct number to Hertz and called that. I was told that Hertz would not be able to deliver a replacement car to me because a tow truck was already dispatched. I found this unacceptable as I was not in a hurry and could wait. But was again told that it was not possible. After requesting a manager, I was offered to have a replacement sent to my hotel later that evening and after the original car was returned by the towing company. I walked from the restaurant back to my hotel to wait. (this is in the Phoenix area. It was 107 degrees) A replacement car was delivered a few hours later. After checking my cell phone logs, I added up the time I spent on the phone with Hertz-trying to get someone to answer, talking to a representative, or on hold - 67 minutes. 67 minutes to get Hertz to agree to send a replacement for one of your cars that broke down it POOR customer service. I my current job, I rent cars often and make the choice of companies myself. I will definitely be considering choices other than Hertz.\n",
      "The rented car (Nissan Rogue) was overheat in the afternoon of June 25. Steam or smoke came out of the car. I stopped the car in the parking lot of a big mall in Scottsdale, AZ. I called the emergency road service 1-800-645-5060. Customer experiences was terrible in that call center persons did not know what to do. For a single question, they asked me to wait for 10~20 minutes. They were not trained. To make a long story short, the conversation took about 2 hours and half with 2 different persons until I heard a towing car would be coming. It was worst ever since I used Hertz for the past 30 years. Now, I am seriously considering to change the rental company.\n",
      "Long wait to check out car at PHX and then the lane closes. Couldn’t hear a word of what the representative was saying from her booth. On return they charged me for refill the fuel which I had just done five minutes earlier. On trying to reach Hertz about this I spent 50 minutes on the phone and was unsuccessful st talking to anyone to correct the presumed mistake. I had to give up because my plane was boarding.\n",
      "nan\n",
      "Despite telling the customer service representative that checked me out at the counter that I did not want or need loss/damage coverage for my rental, it was still added to my bill. Unfortunately because of the small size of the screen used for check out and electronic signature pad, I had already signed for this ‘accepting’ the terms when I got my receipt and noticed this upon return of the car. I was then denied a refund for the >$300 overcharge. As a loyal hertz user, this was absolutely ridiculous and u acceptable. I feel cheated by the counter clerk and hertz offered virtually zero recourse. Horrible experience overall, and I’ve lost my faith and trust in Hertz customer service. I will be bringing my service elsewhere in the future.\n",
      "There were several charges that I didn’t agree to or realize I was being charged. Such as Loss Dmg Wvr Prem Road Serv I did not want nor did I agree to these charges. I think it’s wrong to just charge people. I’ve rented cars from other companies and have never been charged these charges. Therefore I won’t be using Hertz again!\n",
      "I was told that when I brought back the car I would have to pay two something per gallon I asked her this twice and she repeated that I would pay to something per gallon I ended up paying nine something I do not appreciate people or companies lying to\n",
      "Terrible customer service. No cars available at any time of the day. Employee crashed a car hit a pole\n",
      "nan\n",
      "I rented a Caddy Escalade using your Hertz Business Rewards Program. When I arrived at the car rental location for Phoenix Sky Harbor Airport, the Caddy had about 30K miles. I went to the counter downstairs at the car rental location and told the agent that I wanted a car with less miles. She told me that a Caddy Escalade with about 8K miles would be available within 15 minutes. I agreed to wait. Then the agent proceeded to create a new contract which was more expensive than the old contract. I argued but I could not convince her. Then she asked for my credit card and I gave her my black, metal, master card and she said that she could not authorize it. I told her that there was plenty of credit on the card. I lost the argument again. I then gave her my amex card and it worked. When I brought the car back to the airport car rental location, I went to the counter upstairs at that location and told the agent I wanted to use my original master card to pay for the rental. The card went thru. I thought that we could pick different cars without creating a new contract. Wow, I was very, very wrong!!!\n",
      "I have had an issue with this reservation for months. Ultimately, I went to the agent and explained the issue I had - which was unsolvable to the hertz team and required me to make an entire new hertz profile at the suggestion of the agents on the phone. I lost my five star status when doing this and they couldn’t transfer it to my new account. Additionally- I will Still forced to pay $75 for the points that I had purchased on 5/3 that were never able to be transferred to my initial account. The agent said she couldn’t help and to call back the number- completely not helpful. I asked if we could get an upgrade and she said no. I have Amex platinum as well which states we get an upgrade, and we didn’t. The least she could do was make me feel like a valued loyal customer and give us a minor upgrade. It would have been at no cost to hertz and a nice offering to us. Based on my experience with the points purchase, the lack of help and understanding to fix it, and then the recreation of my account; I will never rent with hertz again.\n",
      "I was charged for a tank of gas when I returned it full.\n",
      "I have been a hertz customer for over 15 years lately I have been prepaying for the car. When I get there usually my name is not on the gold board and you have given away the car I paid for which is Always nicer than what I get from Hertz. I always have to go into the office wait on line which defeats the purpose of being gold and pre selecting and paying for the car. Usually tat least in your PHX its a very long wait and they are very unaccommodating.\n",
      "I am a hertz gold member. There we NO cars available and we had to wait over half an hour to get a car. They had us outside in 100 degree plus weather waiting. Horrible experience\n",
      "My minivan smelled atrocious. I was in a hurry to get back to my family and pick them up at the Phoenix airport and didn't notice how awful it was until it was too late. I called around our hotel looking for exchanges but nobody had larger size cars left. I called the Phoenix airport location but they refused to drive out a clean car for me. The first rep I spoke to kept hanging up on me and later she claimed they were having phone issues. The last time she hung up on me, I was able to get another rep, James, who gave me a case #190194333 but was unable to get a car delivered to me. Totally unacceptable for my years of renting from you and my status. I'm asking for a refund as a result. Thanks, Adam Miller 630-854-0460\n",
      "Renting a car has become a comedy of errors\n",
      "My car had a mechanical defect. As instructed by Hertz, I went to the nearest location to obtain a new vehicle. I waited 24 hours for a new vehicle and the only one “I can part with” according to the woman working the counter was a 4x4 truck. I had a 5 year old, 17 year old, car seat and luggage. A truck was just not appropriate.\n",
      "See my Yelp review, which I previously forwarded to Hertz customer service with no response to date.\n",
      "There was no platinum rep there to meet me and when I called the platinum mobile number the mail box was full so I had to ride the bus to the terminal to pick up my car... very frustr\n",
      "I didn’t receive the type of vehicle I paid for. So I was overcharged for the vehicle I received. The staff wasn’t helpful at all. I was told a manager wasn’t available for me to speak with. I always rent from this Hertz and never experienced service like this before.\n",
      "The salesperson used deceptive tactics and was very pushy on up selling. The facility didn't have the car we reserved. We had to walk around for about 10 minutes to get a car in over 100 degree heat.\n",
      "You rented me a 2017 Traverse with 45000+ miles. 1. Gaskets on rear windows were failing. 2. Oil change light came on midweek on the rental. 3. Worst of all, the car fob apparently had been misplaced but not replaced, and you only had a conventional key for us. Most of the time, the car alarm went off when we unlocked the car with the conventional key. And periodically the car would lock itself after being parked, including once when the key was still inside the vehicle. It took more than an hour to get through to your Roadside Assistance people and get the vehicle unlocked remotely. Worst experience with one of your vehicles I've had in years.\n",
      "Coolant was below the low line. Wiper fluid almost immediately needed to be refilled. I had to refill both. Air pressure on one of the tires was a little lower than the rest when car was first received. I didn't think much of it initially when leaving the airport. However, I noticed the PSI slowly lowering when driving from Phoenix to Flagstaff. I discovered there was a nail in the tire. It was in a location that couldn't be patched and the tire needed to be replaced. I called customer service and was told I was responsible for the cost of the replacement. It didn't matter that I obviously received the car with the nail in the tire already. 0 for 3. It was a terrible car rental experience.\n",
      "Selection of cars was weak, I chose the one given to me, but the windshield and side window were so dirty. Car was ran through the wash cycle so quickly, that it wasn't fully clean. I had to get a manager involved, but spend probably an hour in the process, poor all around. The manager knew the car wasn't properly cleaned as she noted the chalk marker used on a side window was still present.\n",
      "My rental was booked for a single day rather than my full trip. I booked via Delta which auto populates my flight details. I was charge an exuberant amount! Will not use Hertz again. Called Delta but they told me it was booked for only 24hrs via Hertz.\n",
      "Didn’t like the experience.. wrong car it took 2 hours to complete my transaction and still Was NOT CORRECT. And someone was driving off with the car they rented out to us.. just rid\n",
      "Very poor selection of vehicles in the Five Star and President Circle areas.. no premium cars at all.\n",
      "I have several credit cards in my profile because I like to use Hertz for both business and personal travel. When I picked up my car I made sure that the agent at the desk selected my business credit card for the rental. Despite the agents assurances, Hertz charged my rental to a different card on my profile. When I called customer service the woman on the phone made me feel as though this was my fault, and informed me that while she would make the change Hertz would prevent me from correcting an improper credit card charge like this “for the remainder of my lifetime renting from Hertz,” as she put it. Naturally, I’m beyond irate. I’m angry that I had to call customer service at 5am and I’m especially angry that Hertz has this absurd policy that punished me for a mistake made by its own employee. I would like to hear from a Hertz employee about my account, whether I am truly banned for life from fixing future mistakes, and whether or not Hertz would prefer that I switch to using an alternative rental car company. My phone number is (914) 479-9123 and my name is Ben Ilany. My hertz gold membership number is 54886361. I look forward to discussing my experience further.\n",
      "The attendant in the pick up area was arrogant, condescending and not helpful it all with picking up and choosing a car. Have never had this problem before. We were loading our luggage in a vehicle and he told us we couldn't have that one as it was not what I signed up for...I would have paid the up charges. Then he pointed to another and said to take that one...I was given no other options when I told him I didn't want that car...the area was full of cars. Not sure what the purpose of being a gold card member is if there is not some level of customer service.\n",
      "Hertz was not able to facilitate our extending our car rental and exchange even though we had been good customers and rented from them for ten days, wanting to extend for ten more days. The hassle was with us having to do the work for them in calling different departments in order to try to be able to make the extension and change to a different car for our needs. After three hours of phone tagging and Hertz calls dropping out on us, we decided to deliver the car and go with another car rental company.\n",
      "Hertz destroyed my holiday by changing the possibility of my one way drop off without telling me. It was confirmed three months ago but on pick up I was told I could no longer drop off as planned.\n",
      "We picked up our rental and it smelled like cigarettes and when I dropped it off they told me that they had to inspect the car to make sure it didn’t smell like smoke and gave me receipts then later sent a new receipt with a smoking cleaning fee of 300$ and I didn’t smoke in the car. Super unprofessional!\n",
      "I arrived at hertz rental center and the board said “see desk”. I have rented cars 2x at PHX and both times the board said “see desk”. After waiting in line for 30 minutes, the desk staff said there are no issues and simply said to go pick a car in President’s circle. When I asked why the board said “see desk”, they said they did not know. Upon leaving, the gate person was extremely rude and spent another 20 minutes to print my folder and paperwork. If this cannot be fixed, I don’t want to rent from Hertz again. .\n",
      "Booking site led us to believe additional driver was free; at counter agent could not honor that but never suggested that if both drivers were AAA we could get free additional driver. Car was in bad shape - probably half dozen windshield rock chips. were Aaa\n",
      "Customer sat issue. There is no reason to be in the President's Circle if service delivery is as poor as it is.\n",
      "I had to return 2 cars to Hertz as they were given to me with less than 2% oil in the vehicles. I had to travel over 2 hours twice to exchange the vehicle with Hertz Then I was charged an overage in an excess amount that no one can seem to explain to me. This was a horrible rental!!\n",
      "When I spoke to the clerk at the counter when I picked up the car, I specifically asked if I could return it early without a change in the rate. He said it wouldn't be a problem, to just call the 1-800 number and they would change it. Then when I called the number and asked, they told me the price would almost double. I felt totally misled and then when I complained to customer service they were not helpful. I would not recommend to anyone they use Hertz, and will not direct my employees to use it. I also am planning to write about it next month in my travel blog.\n",
      "I returned the car with our car seat in the back seat. It has not been found. A customer agent told us that it would be unlikely that we get the car seat back as because Hertz just takes them and re rents them out. Apparently, that is what happened and I am extremely upset by it.\n",
      "The service upon returning car was absolutely horrible. The large gentleman working was down right rude and said if i had any feedback take it up with management as not his job to listen to it. Was pretty much the same attitude 2 weeks ago from him.\n",
      "PHOENIX-SKY HARBOR APに行く友人や家族が居ないから。\n",
      "I had a reservation to pick up a Class C vehicle from Hertz near Sky Harbor Airport after a flight into Phoenix. When I arrived, I was informed by the woman working the desk that I could go downstairs to the parking garage and pick any car in the Gold lot. When I got down to the lot, not only were there no cars in the Gold lot, there were no cars in any section of the lot! The employee made no mention of this! We stood there wondering what to do and searched around the parking garage for an employee but it was a ghost town with no one there readily available to assist customers. Eventually, another customer who was waiting for a vehicle told us that we would have to hurry and grab any car we saw pull in because there were not enough cars for the amount of people waiting. Cars were arriving so infrequently that customers were sprinting with their luggage to the vehicles in order to get to the car first. My husband and I stood there waiting for half an hour until a Toyota Corolla was dropped off which we were forced to take because we were in a time crunch. So not only did we have to wait outside in the 100 degree Phoenix heat with all of our luggage for a half an hour, but we were not even able to receive the Class C car that we had made a reservation and paid for. This was my first time renting with Hertz and I learned my lesson. In the future I will be sticking with Enterprise.\n",
      "It took nearly 30 minutes just to get out of the parking lot\n",
      "Didn’t meet my reservation requirements. Forced to get a lesser rental and the customer service I received was terrible at Phoenix sky harbor\n",
      "Very difficult to make changes to the date or location of return, despite already having a one way rental. I spoke to multiple customer service agencies, each one was more useless than the next- particularly the Philippines-based call center. I parked the vehicle at a return location five days earlier than I was supposed to, but received no discount for an early return. At that point I was just ready to be done with dealing with all of your customer service agents. You win.\n",
      "Too long to get customer service over phone\n",
      "Terrible. I was overcharged and billed for extra time and gas which was not accurate. They had new employees that did not know what they were doing and I paid for their mistakes.\n",
      "The employees are extremely rude and offer little to no assistance. When we were trying to return the car, we went to the office for assistance as to where we were to return it. The employee just kept hollering at me that we drove right past the return. In a huff he decided to walk to it and show me where it was. Will try another rental agency in the future.\n",
      "Clear didn't work. Waited in long exit line when exit lanes were not maned. Gasoline charge was abusive.\n",
      "My car broke down and I had to take 5 hours of my time from my trip to get another one. I attempted 4 different times to get some sort of compensation for this and was given the run around. I am not happy at all. Extremely poor customer service...\n",
      "I first rented the car for a date. I picked it up at 3:30 in the afternoon. The car had stale smoke smell when you turn on the AC. I called to let the representative know. But it was really difficult. Trying to get to a actual human being and when I did. They didn’t really care. So i asked to talk to a manger. I got hung up on. I went through the same process and once again asked to talk to a manger, I got transferrced to the beginning on the directory where you select what department you want to be transferred to. So I called again and refused to disclose any info about myself and just wanted to speak to a manger. I finally got to on and voiced my considers.\n",
      "Poor service, car was dirty when I got it, told the girl at check out, smelled like smoke. Now I am being charged $300 for smoke cleaning. I am a gold member. Thisnis the second consecutive bad experience\n",
      "The quote that I was given when I rented the car through my Delta airlines account was way off from actual cost. I feel as though i was scammed. And then when I okayed the insurance at the price quoted by the person working the Hertz counter, that too was much more expensive than I was quoted. The counter person said “Oh, that price was for a compact car and is just an estimate. When I returned the car, the person checking the car in could hardly speak English, thus I was unable to talk to him about the extra charges.i rent cars frequently, but will never rent from Hertz again because Hertz is so dishonest about their pricing.\n",
      "If this was my for rental I would never rent from Hertz again. 1) you easy pick up. The last several rentals I have not received the sms/email telling me where my car should be. 2) last time I was 2 minutes “early”\n",
      "Doesnt make it known about deposits until your at the counter. Takes way too long to release deposits to the credit cards after the rental is returned\n",
      "I am a Gold Member, and rent very regularly from Hertz. The PHX location is the worst I even had to deal with. This time, my reservation was canceled while I was standing there trying to find a car. I had to go back up to the main desk and re-reserve a car. The car I was assigned was not in the \"bay\" I was told to go to. After wandering around aimlessly trying to find help, a van driver finally pointed me in the right direction. Once I found where to find a car (gold), there were only about 5 to select from, 3 of which were trucks and totally unacceptable. The other one was already taken. This experience had made me continue to question why I still use Hertz. My company also has a discount with 2 other companies. I believe I will try them in the future. Hertz at PHX is just unacceptable.\n",
      "I have just reviewed my inline bill. It is charging me $300 for damage to vehicle. If there was ANY damage why wouldn’t your return attendant mention it? Frankly I will just be instructing my office to issue a change dispute as soon as it appears on my AMEX. Hertz can pay the charge back fee for my inconvience . Back to Budget for me... what a scam!\n",
      "Vehicle wasn't ready; indifferent customer services reps. No one available to inspect car for damage at pickup.\n",
      "I had reserved a SUV..last car available was compact..I paid fir SUV... had to have switched..then car smelled like someone urinated in it.. told customer service person when I returned it .. will not rent from hertz again\n",
      "I have been a five star member or gold member for decades. Recently, renting cars for full size or hybrid and then get midsize as my car not in five star lot Then unable to get help with this problem\n",
      "My plane was delayed by 4 hours. By the time I reached the rental car facility, it was near midnight. I went straight to the Gold member section and there were exactly 4 cars to choose from. The 1st had the hood up with mechanical difficulties. The 2nd had a note written on the window that said \"no keys.\" The 3rd - I tried to get in and the doors were locked. The 4th was a Toyota Yaris - that looked like a joke of a vehicle from a Lampoon family vacation movie... it didn't even have remote unlock/lock functionality. This was not a Gold-level vehicle, yet I felt forced to take it as the garage looked empty and I was exhausted. So I drove it to the checkout lane and proceeded to have a nightmare of an experience. I already submitted the rest of this feedback on your app, but the employee working your kiosk nearly refused to let me through. He said my cc didn't match the reservation and insisted on asking me to show every credit card in my wallet while he made attempt after attempt for a match. I explained that this was a corp rental and that the 1st card was my corp card and the correct one I needed to charge the rental to. He said I would have to either produce the card that matched or he would turn me around and send me back to the counter to fix the issue. He finally asked for help from the employee at the check-out kiosk next to him and she showed him how to change the cc # in my reservation. She explained that this would change it only 1 time and I would have to update my profile. I felt like I went through a trial by fire to get out of the garage. Then I logged in to the app immediately upon reaching the hotel and the app refused to allow me to edit the existing card on file (no longer in existence) and refused to allow me to add a new credit card. I could enter the new card details, but the app would save \"saving\" and then save nothing. My Hertz car rental experience should not be \"a series of unfortunate events\" like this...\n",
      "We were told the vehicle was being washed and that it would be ready in ten minutes. After over an hour we finally left there in an inferior vehicle.\n",
      "For the 2nd week in a row in PHX I showed up and there we literally NO cars in the lot. We had to wait over 20 minutes to get a car. To make things worse, no one from Hertz felt the need to come out and explain what was happening or even apologize. In fact, when we went back in to ask, they gave us attitude. incredible.....\n",
      "I am a presidents circle member and the last several times renting from you, there has been a VERY LOW selection with the presidents circle choices. This recent rental in PHX there wasn't a car suitable and I turn around and there was a ford fusion in the upgrade section? Are you kidding me? Then I had to pay for an upgrade for another car? I am seriously considering changing my preferred to another rental company. I have ONLY rented from Hertz for the past 15 years. It might be time for a change.\n",
      "Please contact me so I can explain to a “live” customer service person re: my dissatisfaction about my recent experience. Thank you. My number is317 319-3297. I am a President Circle Member.\n"
     ]
    }
   ],
   "source": [
    "for i in zero['Recommend Comment'].index:\n",
    "    print(zero['Recommend Comment'][i])"
   ]
  },
  {
   "cell_type": "code",
   "execution_count": null,
   "metadata": {},
   "outputs": [],
   "source": []
  }
 ],
 "metadata": {
  "kernelspec": {
   "display_name": "Python (learn-env)",
   "language": "python",
   "name": "learn-env"
  },
  "language_info": {
   "codemirror_mode": {
    "name": "ipython",
    "version": 3
   },
   "file_extension": ".py",
   "mimetype": "text/x-python",
   "name": "python",
   "nbconvert_exporter": "python",
   "pygments_lexer": "ipython3",
   "version": "3.8.5"
  },
  "toc": {
   "base_numbering": 1,
   "nav_menu": {},
   "number_sections": true,
   "sideBar": true,
   "skip_h1_title": false,
   "title_cell": "Table of Contents",
   "title_sidebar": "Contents",
   "toc_cell": false,
   "toc_position": {
    "height": "calc(100% - 180px)",
    "left": "10px",
    "top": "150px",
    "width": "301.275px"
   },
   "toc_section_display": true,
   "toc_window_display": true
  }
 },
 "nbformat": 4,
 "nbformat_minor": 4
}
